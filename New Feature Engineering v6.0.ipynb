{
 "cells": [
  {
   "cell_type": "code",
   "execution_count": 1,
   "metadata": {},
   "outputs": [],
   "source": [
    "import pandas as pd\n",
    "import numpy as np"
   ]
  },
  {
   "cell_type": "code",
   "execution_count": 1,
   "metadata": {},
   "outputs": [],
   "source": [
    "# df = pd.read_csv('pp_data_train.csv')\n",
    "# print(df.shape)"
   ]
  },
  {
   "cell_type": "code",
   "execution_count": 2,
   "metadata": {},
   "outputs": [],
   "source": [
    "# df.head(7)"
   ]
  },
  {
   "cell_type": "code",
   "execution_count": 3,
   "metadata": {},
   "outputs": [],
   "source": [
    "# col_n1 = df.select_dtypes(include = ['object']).columns.values\n",
    "# col_n2 = df.select_dtypes(exclude = ['object']).columns.values\n",
    "\n",
    "# print(len(col_n1))\n",
    "# print(col_n1)\n",
    "\n",
    "# print(len(col_n2))\n",
    "# print(col_n2)"
   ]
  },
  {
   "cell_type": "code",
   "execution_count": 4,
   "metadata": {},
   "outputs": [],
   "source": [
    "# print(df.columns.values)"
   ]
  },
  {
   "cell_type": "code",
   "execution_count": 5,
   "metadata": {},
   "outputs": [],
   "source": [
    "# for col in df.columns.values:\n",
    "#     print('Column name: ', col)\n",
    "#     print('Missing value counts: ', df[col].isnull().sum())\n",
    "#     print('\\n')"
   ]
  },
  {
   "cell_type": "code",
   "execution_count": 6,
   "metadata": {},
   "outputs": [],
   "source": [
    "# inc_datetime\n",
    "\n",
    "# df['inc_datetime'] = pd.to_datetime(df['inc_datetime'])\n",
    "# df['inc_datetime']"
   ]
  },
  {
   "cell_type": "code",
   "execution_count": 33,
   "metadata": {},
   "outputs": [
    {
     "data": {
      "text/plain": [
       "571"
      ]
     },
     "execution_count": 33,
     "metadata": {},
     "output_type": "execute_result"
    }
   ],
   "source": [
    "df['inc_datetime'].isnull().sum()"
   ]
  },
  {
   "cell_type": "code",
   "execution_count": 34,
   "metadata": {},
   "outputs": [
    {
     "data": {
      "text/plain": [
       "571"
      ]
     },
     "execution_count": 34,
     "metadata": {},
     "output_type": "execute_result"
    }
   ],
   "source": [
    "df['inc_datetime'].isnull().astype(int).sum()"
   ]
  },
  {
   "cell_type": "code",
   "execution_count": 35,
   "metadata": {},
   "outputs": [],
   "source": [
    "df['inc_datetime_isnull'] = df['inc_datetime'].isnull().astype(int)"
   ]
  },
  {
   "cell_type": "code",
   "execution_count": 36,
   "metadata": {},
   "outputs": [],
   "source": [
    "df['inc_datetime_mon'] = df['inc_datetime'].dt.month\n",
    "df['inc_datetime_hour'] = df['inc_datetime'].dt.hour"
   ]
  },
  {
   "cell_type": "code",
   "execution_count": 37,
   "metadata": {},
   "outputs": [
    {
     "data": {
      "text/plain": [
       "571"
      ]
     },
     "execution_count": 37,
     "metadata": {},
     "output_type": "execute_result"
    }
   ],
   "source": [
    "df['inc_datetime_hour'].isnull().sum()"
   ]
  },
  {
   "cell_type": "code",
   "execution_count": 38,
   "metadata": {},
   "outputs": [
    {
     "data": {
      "text/plain": [
       "0"
      ]
     },
     "execution_count": 38,
     "metadata": {},
     "output_type": "execute_result"
    }
   ],
   "source": [
    "# inc_day\n",
    "\n",
    "df['inc_day'].isnull().sum()"
   ]
  },
  {
   "cell_type": "code",
   "execution_count": 39,
   "metadata": {},
   "outputs": [
    {
     "data": {
      "text/plain": [
       "Saturday     26513\n",
       "Sunday       23405\n",
       "Friday       22922\n",
       "Thursday     19105\n",
       "Monday       18115\n",
       "Wednesday    17721\n",
       "Tuesday      17282\n",
       "Name: inc_day, dtype: int64"
      ]
     },
     "execution_count": 39,
     "metadata": {},
     "output_type": "execute_result"
    }
   ],
   "source": [
    "df['inc_day'].value_counts()"
   ]
  },
  {
   "cell_type": "code",
   "execution_count": 40,
   "metadata": {},
   "outputs": [
    {
     "name": "stdout",
     "output_type": "stream",
     "text": [
      "0\n",
      "Daylight                     76665\n",
      "Dark no streetlights         36531\n",
      "Dark streetlights            24619\n",
      "Dusk                          3489\n",
      "Dawn                          2574\n",
      "Dark unknown streetlights      779\n",
      "unknown                        406\n",
      "Name: inc_daylight, dtype: int64\n"
     ]
    }
   ],
   "source": [
    "# inc_daylight\n",
    "\n",
    "print(df['inc_daylight'].isnull().sum())\n",
    "\n",
    "print(df['inc_daylight'].value_counts())"
   ]
  },
  {
   "cell_type": "code",
   "execution_count": 7,
   "metadata": {},
   "outputs": [],
   "source": [
    "# l_null = [1 if cat in ['unknown'] else 0 for cat in df['inc_daylight']]\n",
    "# print(l_null)"
   ]
  },
  {
   "cell_type": "code",
   "execution_count": 42,
   "metadata": {},
   "outputs": [
    {
     "data": {
      "text/plain": [
       "406"
      ]
     },
     "execution_count": 42,
     "metadata": {},
     "output_type": "execute_result"
    }
   ],
   "source": [
    "sum(l_null)"
   ]
  },
  {
   "cell_type": "code",
   "execution_count": 43,
   "metadata": {},
   "outputs": [
    {
     "data": {
      "text/plain": [
       "0    0\n",
       "1    0\n",
       "2    0\n",
       "3    0\n",
       "4    0\n",
       "Name: inc_daylight_isnull, dtype: int64"
      ]
     },
     "execution_count": 43,
     "metadata": {},
     "output_type": "execute_result"
    }
   ],
   "source": [
    "df['inc_daylight_isnull'] = [1 if cat in ['unknown'] else 0 for cat in df['inc_daylight']]\n",
    "df['inc_daylight_isnull'].head()"
   ]
  },
  {
   "cell_type": "code",
   "execution_count": 44,
   "metadata": {},
   "outputs": [
    {
     "data": {
      "text/plain": [
       "406"
      ]
     },
     "execution_count": 44,
     "metadata": {},
     "output_type": "execute_result"
    }
   ],
   "source": [
    "df['inc_daylight_isnull'].sum()"
   ]
  },
  {
   "cell_type": "code",
   "execution_count": 45,
   "metadata": {},
   "outputs": [
    {
     "name": "stdout",
     "output_type": "stream",
     "text": [
      "0\n",
      "Clear          103145\n",
      "Cloudy          22407\n",
      "Rain            10067\n",
      "unknown          4650\n",
      "Snow             2048\n",
      "Fog              1635\n",
      "Sleet/Hail        619\n",
      "Other             306\n",
      "Heavy winds       186\n",
      "Name: inc_weather, dtype: int64\n"
     ]
    }
   ],
   "source": [
    "# inc_weather\n",
    "\n",
    "print(df['inc_weather'].isnull().sum())\n",
    "\n",
    "print(df['inc_weather'].value_counts())"
   ]
  },
  {
   "cell_type": "code",
   "execution_count": 46,
   "metadata": {},
   "outputs": [
    {
     "data": {
      "text/plain": [
       "0    0\n",
       "1    0\n",
       "2    0\n",
       "3    0\n",
       "4    0\n",
       "Name: inc_weather_isnull, dtype: int64"
      ]
     },
     "execution_count": 46,
     "metadata": {},
     "output_type": "execute_result"
    }
   ],
   "source": [
    "df['inc_weather_isnull'] = [1 if cat in ['unknown'] else 0 for cat in df['inc_weather']]\n",
    "df['inc_weather_isnull'].head()"
   ]
  },
  {
   "cell_type": "code",
   "execution_count": 47,
   "metadata": {},
   "outputs": [
    {
     "data": {
      "text/plain": [
       "4650"
      ]
     },
     "execution_count": 47,
     "metadata": {},
     "output_type": "execute_result"
    }
   ],
   "source": [
    "df['inc_weather_isnull'].sum()"
   ]
  },
  {
   "cell_type": "code",
   "execution_count": 48,
   "metadata": {},
   "outputs": [
    {
     "name": "stdout",
     "output_type": "stream",
     "text": [
      "0\n",
      "Dry                122122\n",
      "Wet                 16083\n",
      "Ice                  1798\n",
      "Snow                 1761\n",
      "unknown              1346\n",
      "Not a road            860\n",
      "Other                 562\n",
      "Snow slush            323\n",
      "Water (sitting)       208\n",
      "Name: veh_roadcond, dtype: int64\n"
     ]
    }
   ],
   "source": [
    "# veh_roadcond\n",
    "\n",
    "print(df['veh_roadcond'].isnull().sum())\n",
    "\n",
    "print(df['veh_roadcond'].value_counts())"
   ]
  },
  {
   "cell_type": "code",
   "execution_count": 50,
   "metadata": {},
   "outputs": [],
   "source": [
    "df['veh_roadcond_isnull'] = [1 if cat in ['unknown'] else 0 for cat in df['veh_roadcond']]"
   ]
  },
  {
   "cell_type": "code",
   "execution_count": 51,
   "metadata": {},
   "outputs": [
    {
     "data": {
      "text/plain": [
       "0    0\n",
       "1    0\n",
       "2    0\n",
       "3    0\n",
       "4    0\n",
       "Name: veh_roadcond_isnull, dtype: int64"
      ]
     },
     "execution_count": 51,
     "metadata": {},
     "output_type": "execute_result"
    }
   ],
   "source": [
    "df['veh_roadcond_isnull'].head()"
   ]
  },
  {
   "cell_type": "code",
   "execution_count": 52,
   "metadata": {},
   "outputs": [
    {
     "name": "stdout",
     "output_type": "stream",
     "text": [
      "0\n",
      "Flat                  100091\n",
      "Hill unknown slope     15264\n",
      "unknown                10650\n",
      "Downhill                8455\n",
      "Uphill                  5922\n",
      "Crest of hill           3347\n",
      "Not a road               860\n",
      "Bottom of Hill           474\n",
      "Name: veh_roadslope, dtype: int64\n"
     ]
    }
   ],
   "source": [
    "# veh_roadslope\n",
    "\n",
    "print(df['veh_roadslope'].isnull().sum())\n",
    "print(df['veh_roadslope'].value_counts())"
   ]
  },
  {
   "cell_type": "code",
   "execution_count": 54,
   "metadata": {},
   "outputs": [
    {
     "data": {
      "text/plain": [
       "0    0\n",
       "1    0\n",
       "2    0\n",
       "3    0\n",
       "4    0\n",
       "Name: veh_roadslope_isnull, dtype: int64"
      ]
     },
     "execution_count": 54,
     "metadata": {},
     "output_type": "execute_result"
    }
   ],
   "source": [
    "df['veh_roadslope_isnull'] = [1 if cat in ['unknown'] else 0 for cat in df['veh_roadslope']]\n",
    "df['veh_roadslope_isnull'].head()"
   ]
  },
  {
   "cell_type": "code",
   "execution_count": 55,
   "metadata": {},
   "outputs": [
    {
     "data": {
      "text/plain": [
       "10650"
      ]
     },
     "execution_count": 55,
     "metadata": {},
     "output_type": "execute_result"
    }
   ],
   "source": [
    "df['veh_roadslope_isnull'].sum()"
   ]
  },
  {
   "cell_type": "code",
   "execution_count": 57,
   "metadata": {},
   "outputs": [
    {
     "name": "stdout",
     "output_type": "stream",
     "text": [
      "0\n",
      "2-way Not divided           82186\n",
      "2-way Divided No barrier    26018\n",
      "2-way Divided Barrier       23005\n",
      "Entrance/Exit lane          10192\n",
      "1-way                        1731\n",
      "unknown                      1071\n",
      "Not a road                    860\n",
      "Name: veh_lanediv, dtype: int64\n"
     ]
    }
   ],
   "source": [
    "# veh_lanediv\n",
    "\n",
    "print(df['veh_lanediv'].isnull().sum())\n",
    "print(df['veh_lanediv'].value_counts())"
   ]
  },
  {
   "cell_type": "code",
   "execution_count": 58,
   "metadata": {},
   "outputs": [
    {
     "data": {
      "text/plain": [
       "0    0\n",
       "1    0\n",
       "2    0\n",
       "3    0\n",
       "4    0\n",
       "Name: veh_lanediv_isnull, dtype: int64"
      ]
     },
     "execution_count": 58,
     "metadata": {},
     "output_type": "execute_result"
    }
   ],
   "source": [
    "df['veh_lanediv_isnull'] = [1 if cat in ['unknown'] else 0 for cat in df['veh_lanediv']]\n",
    "df['veh_lanediv_isnull'].head()"
   ]
  },
  {
   "cell_type": "code",
   "execution_count": 59,
   "metadata": {},
   "outputs": [
    {
     "name": "stdout",
     "output_type": "stream",
     "text": [
      "0\n",
      "Male      95540\n",
      "Female    49523\n",
      "Name: occ_sex, dtype: int64\n"
     ]
    }
   ],
   "source": [
    "# occ_sex\n",
    "\n",
    "print(df['occ_sex'].isnull().sum())\n",
    "print(df['occ_sex'].value_counts())"
   ]
  },
  {
   "cell_type": "code",
   "execution_count": 60,
   "metadata": {},
   "outputs": [
    {
     "name": "stdout",
     "output_type": "stream",
     "text": [
      "0\n",
      "Driver            96541\n",
      "Passenger         47951\n",
      "Not-in-transit      571\n",
      "Name: occ_role, dtype: int64\n"
     ]
    }
   ],
   "source": [
    "# occ_role\n",
    "\n",
    "print(df['occ_role'].isnull().sum())\n",
    "print(df['occ_role'].value_counts())"
   ]
  },
  {
   "cell_type": "code",
   "execution_count": 61,
   "metadata": {},
   "outputs": [
    {
     "name": "stdout",
     "output_type": "stream",
     "text": [
      "0\n",
      "Front right side         96861\n",
      "Front left side          24591\n",
      "Second row right side     7588\n",
      "Second row left side      7578\n",
      "Second row middle         2660\n",
      "Other enclosed            2087\n",
      "unknown                   1056\n",
      "Other unenclosed           506\n",
      "Front middle               495\n",
      "Rear right side            487\n",
      "Rear left side             464\n",
      "Second row other           279\n",
      "Rear middle                265\n",
      "Rear other                  76\n",
      "Front other                 46\n",
      "In towage                   24\n",
      "Name: occ_position, dtype: int64\n"
     ]
    }
   ],
   "source": [
    "# occ_position\n",
    "\n",
    "print(df['occ_position'].isnull().sum())\n",
    "print(df['occ_position'].value_counts())"
   ]
  },
  {
   "cell_type": "code",
   "execution_count": 62,
   "metadata": {},
   "outputs": [],
   "source": [
    "df['occ_position_isnull'] = [1 if cat in ['unknown'] else 0 for cat in df['occ_position']]"
   ]
  },
  {
   "cell_type": "code",
   "execution_count": 63,
   "metadata": {},
   "outputs": [
    {
     "name": "stdout",
     "output_type": "stream",
     "text": [
      "0\n",
      "Shoulder & Lap Belt     82789\n",
      "No seatbelt             36691\n",
      "unknown                 13828\n",
      "Helmet                   6870\n",
      "Non-motorist             1389\n",
      "Child Forward facing     1103\n",
      "Lap Belt Only            1065\n",
      "Child Booster seat        545\n",
      "Shoulder Belt Only        404\n",
      "Child Rear facing         379\n",
      "Name: occ_seatbelt, dtype: int64\n"
     ]
    }
   ],
   "source": [
    "# occ_seatbelt\n",
    "\n",
    "print(df['occ_seatbelt'].isnull().sum())\n",
    "print(df['occ_seatbelt'].value_counts())"
   ]
  },
  {
   "cell_type": "code",
   "execution_count": 64,
   "metadata": {},
   "outputs": [
    {
     "name": "stdout",
     "output_type": "stream",
     "text": [
      "13828\n"
     ]
    }
   ],
   "source": [
    "df['occ_seatbelt_isnull'] = [1 if cat in ['unknown'] else 0 for cat in df['occ_seatbelt']]\n",
    "print(df['occ_seatbelt_isnull'].sum())"
   ]
  },
  {
   "cell_type": "code",
   "execution_count": 65,
   "metadata": {},
   "outputs": [
    {
     "name": "stdout",
     "output_type": "stream",
     "text": [
      "0\n",
      "None deployed            58096\n",
      "unknown                  32030\n",
      "Front airbag deployed    31667\n",
      "Other airbag deployed    23270\n",
      "Name: occ_airbag, dtype: int64\n"
     ]
    }
   ],
   "source": [
    "#occ_airbag\n",
    "\n",
    "print(df['occ_airbag'].isnull().sum())\n",
    "print(df['occ_airbag'].value_counts())"
   ]
  },
  {
   "cell_type": "code",
   "execution_count": 67,
   "metadata": {},
   "outputs": [
    {
     "name": "stdout",
     "output_type": "stream",
     "text": [
      "32030\n"
     ]
    }
   ],
   "source": [
    "df['occ_airbag_isnull'] = [1 if cat in  ['unknown'] else 0 for cat in df['occ_airbag']]\n",
    "\n",
    "print(df['occ_airbag_isnull'].sum())"
   ]
  },
  {
   "cell_type": "code",
   "execution_count": 68,
   "metadata": {},
   "outputs": [
    {
     "name": "stdout",
     "output_type": "stream",
     "text": [
      "0\n",
      "unknown    68474\n",
      "No         62727\n",
      "Yes        13862\n",
      "Name: occ_alcohol, dtype: int64\n"
     ]
    }
   ],
   "source": [
    "# occ_alcohol\n",
    "\n",
    "print(df['occ_alcohol'].isnull().sum())\n",
    "print(df['occ_alcohol'].value_counts())"
   ]
  },
  {
   "cell_type": "code",
   "execution_count": 69,
   "metadata": {},
   "outputs": [
    {
     "name": "stdout",
     "output_type": "stream",
     "text": [
      "68474\n"
     ]
    }
   ],
   "source": [
    "df['occ_alcohol_isnull'] = [1 if cat in ['unknown'] else 0 for cat in df['occ_alcohol']]\n",
    "\n",
    "print(df['occ_alcohol_isnull'].sum())"
   ]
  },
  {
   "cell_type": "code",
   "execution_count": 70,
   "metadata": {},
   "outputs": [
    {
     "name": "stdout",
     "output_type": "stream",
     "text": [
      "0\n",
      "Driver                 77570\n",
      "Other private owner    46048\n",
      "Business vehicle       14703\n",
      "unknown                 5046\n",
      "Rental                  1361\n",
      "Stolen                   335\n",
      "Name: veh_owner, dtype: int64\n"
     ]
    }
   ],
   "source": [
    "# veh_owner\n",
    "\n",
    "print(df['veh_owner'].isnull().sum())\n",
    "print(df['veh_owner'].value_counts())"
   ]
  },
  {
   "cell_type": "code",
   "execution_count": 72,
   "metadata": {},
   "outputs": [
    {
     "name": "stdout",
     "output_type": "stream",
     "text": [
      "5046\n"
     ]
    }
   ],
   "source": [
    "df['veh_owner_isnull'] = [1 if cat in ['unknown'] else 0 for cat in df['veh_owner']]\n",
    "print(df['veh_owner_isnull'].sum())"
   ]
  },
  {
   "cell_type": "code",
   "execution_count": 73,
   "metadata": {},
   "outputs": [
    {
     "name": "stdout",
     "output_type": "stream",
     "text": [
      "3298\n",
      "Truck            75713\n",
      "Passenger Car    54805\n",
      "Motorcycle       11247\n",
      "Name: veh_type, dtype: int64\n"
     ]
    }
   ],
   "source": [
    "# veh_type\n",
    "\n",
    "print(df['veh_type'].isnull().sum())\n",
    "print(df['veh_type'].value_counts())"
   ]
  },
  {
   "cell_type": "code",
   "execution_count": 8,
   "metadata": {},
   "outputs": [],
   "source": [
    "# veh_style\n",
    "\n",
    "# print(df['veh_style'].isnull().sum())\n",
    "# print(df['veh_style'].value_counts(dropna = False))"
   ]
  },
  {
   "cell_type": "code",
   "execution_count": 76,
   "metadata": {},
   "outputs": [
    {
     "ename": "NameError",
     "evalue": "name 'isnull' is not defined",
     "output_type": "error",
     "traceback": [
      "\u001b[1;31m---------------------------------------------------------------------------\u001b[0m",
      "\u001b[1;31mNameError\u001b[0m                                 Traceback (most recent call last)",
      "\u001b[1;32m<ipython-input-76-eaccb563b1ef>\u001b[0m in \u001b[0;36m<module>\u001b[1;34m()\u001b[0m\n\u001b[1;32m----> 1\u001b[1;33m \u001b[0misnull\u001b[0m\u001b[1;33m(\u001b[0m\u001b[0mnp\u001b[0m\u001b[1;33m.\u001b[0m\u001b[0mnan\u001b[0m\u001b[1;33m)\u001b[0m\u001b[1;33m\u001b[0m\u001b[0m\n\u001b[0m",
      "\u001b[1;31mNameError\u001b[0m: name 'isnull' is not defined"
     ]
    }
   ],
   "source": [
    "isnull(np.nan)"
   ]
  },
  {
   "cell_type": "code",
   "execution_count": 78,
   "metadata": {},
   "outputs": [
    {
     "data": {
      "text/plain": [
       "True"
      ]
     },
     "execution_count": 78,
     "metadata": {},
     "output_type": "execute_result"
    }
   ],
   "source": [
    "np.isnan(np.nan)"
   ]
  },
  {
   "cell_type": "code",
   "execution_count": 82,
   "metadata": {},
   "outputs": [],
   "source": [
    "l = [1 if cat in [np.nan] else 0 for cat in df['veh_style']]"
   ]
  },
  {
   "cell_type": "code",
   "execution_count": 83,
   "metadata": {},
   "outputs": [
    {
     "data": {
      "text/plain": [
       "3298"
      ]
     },
     "execution_count": 83,
     "metadata": {},
     "output_type": "execute_result"
    }
   ],
   "source": [
    "sum(l)"
   ]
  },
  {
   "cell_type": "code",
   "execution_count": 87,
   "metadata": {},
   "outputs": [
    {
     "name": "stdout",
     "output_type": "stream",
     "text": [
      "3298\n"
     ]
    }
   ],
   "source": [
    "df['veh_style_isnull'] = [1 if cat in [np.nan] else 0 for cat in df['veh_style']]\n",
    "print(df['veh_style_isnull'].sum())"
   ]
  },
  {
   "cell_type": "code",
   "execution_count": 86,
   "metadata": {},
   "outputs": [
    {
     "name": "stdout",
     "output_type": "stream",
     "text": [
      "133408\n",
      "NaN           133408\n",
      "over 12T        9064\n",
      "up to 12T       2484\n",
      "up to 4.5T       107\n",
      "Name: veh_weight, dtype: int64\n"
     ]
    }
   ],
   "source": [
    "# veh_weight\n",
    "\n",
    "print(df['veh_weight'].isnull().sum())\n",
    "print(df['veh_weight'].value_counts(dropna  =False))"
   ]
  },
  {
   "cell_type": "code",
   "execution_count": 88,
   "metadata": {},
   "outputs": [
    {
     "name": "stdout",
     "output_type": "stream",
     "text": [
      "133408\n"
     ]
    }
   ],
   "source": [
    "df['veh_weight_isnull'] = [1 if cat in [np.nan] else 0 for cat in df['veh_weight']]\n",
    "print(df['veh_weight_isnull'].sum())"
   ]
  },
  {
   "cell_type": "code",
   "execution_count": 9,
   "metadata": {},
   "outputs": [],
   "source": [
    "# veh_manu\n",
    "\n",
    "# print(df['veh_manu'].isnull().sum())\n",
    "# print(df['veh_manu'].value_counts(dropna = False))"
   ]
  },
  {
   "cell_type": "code",
   "execution_count": 91,
   "metadata": {},
   "outputs": [
    {
     "name": "stdout",
     "output_type": "stream",
     "text": [
      "6911\n"
     ]
    }
   ],
   "source": [
    "df['veh_manu_isnull'] = [1 if cat in [np.nan] else 0 for cat in df['veh_manu']]\n",
    "\n",
    "print(df['veh_manu_isnull'].sum())"
   ]
  },
  {
   "cell_type": "code",
   "execution_count": 92,
   "metadata": {},
   "outputs": [
    {
     "name": "stdout",
     "output_type": "stream",
     "text": [
      "0\n",
      "Front Wheel Drive    57270\n",
      "Rear Wheel Drive     40344\n",
      "Rear w/4x4           22472\n",
      "unknown              14796\n",
      "Full wheel drive      9168\n",
      "Front w/4x4           1013\n",
      "Name: veh_drive, dtype: int64\n"
     ]
    }
   ],
   "source": [
    "# veh_drive\n",
    "\n",
    "print(df['veh_drive'].isnull().sum())\n",
    "print(df['veh_drive'].value_counts(dropna = False))"
   ]
  },
  {
   "cell_type": "code",
   "execution_count": 93,
   "metadata": {},
   "outputs": [
    {
     "name": "stdout",
     "output_type": "stream",
     "text": [
      "14796\n"
     ]
    }
   ],
   "source": [
    "df['veh_drive_isnull'] = [1 if cat in ['unknown'] else 0 for cat in df['veh_drive']]\n",
    "\n",
    "print(df['veh_drive_isnull'].sum())"
   ]
  },
  {
   "cell_type": "code",
   "execution_count": 94,
   "metadata": {},
   "outputs": [
    {
     "name": "stdout",
     "output_type": "stream",
     "text": [
      "0\n",
      "Petrol         104886\n",
      "Diesel          14745\n",
      "unknown         14681\n",
      "Multiple         9549\n",
      "Hybrid           1064\n",
      "Natural Gas       107\n",
      "Electric           31\n",
      "Name: veh_fuel, dtype: int64\n"
     ]
    }
   ],
   "source": [
    "# veh_fuel\n",
    "\n",
    "print(df['veh_fuel'].isnull().sum())\n",
    "print(df['veh_fuel'].value_counts())"
   ]
  },
  {
   "cell_type": "code",
   "execution_count": 95,
   "metadata": {},
   "outputs": [
    {
     "name": "stdout",
     "output_type": "stream",
     "text": [
      "14681\n"
     ]
    }
   ],
   "source": [
    "df['veh_fuel_isnull'] = [1 if cat in ['unknown'] else 0 for cat in df['veh_fuel']]\n",
    "\n",
    "print(df['veh_fuel_isnull'].sum())"
   ]
  },
  {
   "cell_type": "code",
   "execution_count": 96,
   "metadata": {},
   "outputs": [
    {
     "name": "stdout",
     "output_type": "stream",
     "text": [
      "0\n",
      "No trailer              137069\n",
      "One trailer               7539\n",
      "Two or more trailers       269\n",
      "Towing other vehicle       186\n",
      "Name: veh_trailer, dtype: int64\n"
     ]
    }
   ],
   "source": [
    "# veh_trailer\n",
    "\n",
    "print(df['veh_trailer'].isnull().sum())\n",
    "print(df['veh_trailer'].value_counts())"
   ]
  },
  {
   "cell_type": "code",
   "execution_count": 97,
   "metadata": {},
   "outputs": [
    {
     "name": "stdout",
     "output_type": "stream",
     "text": [
      "0\n",
      "Full          130518\n",
      "No licence      8331\n",
      "Non-full        4253\n",
      "unknown         1961\n",
      "Name: drv_licence, dtype: int64\n"
     ]
    }
   ],
   "source": [
    "# drv_licence\n",
    "\n",
    "print(df['drv_licence'].isnull().sum())\n",
    "print(df['drv_licence'].value_counts())"
   ]
  },
  {
   "cell_type": "code",
   "execution_count": 98,
   "metadata": {},
   "outputs": [
    {
     "name": "stdout",
     "output_type": "stream",
     "text": [
      "1961\n"
     ]
    }
   ],
   "source": [
    "df['drv_licence_isnull'] = [1 if cat in ['unknown'] else 0 for cat in df['drv_licence']]\n",
    "print(df['drv_licence_isnull'].sum())"
   ]
  },
  {
   "cell_type": "code",
   "execution_count": 100,
   "metadata": {},
   "outputs": [
    {
     "name": "stdout",
     "output_type": "stream",
     "text": [
      "571\n",
      "Clean         122547\n",
      "Penalised      10318\n",
      "No licence      8331\n",
      "Expired         1873\n",
      "unknown         1423\n",
      "NaN              571\n",
      "Name: drv_status, dtype: int64\n"
     ]
    }
   ],
   "source": [
    "# drv_status\n",
    "\n",
    "print(df['drv_status'].isnull().sum())\n",
    "print(df['drv_status'].value_counts(dropna = False))"
   ]
  },
  {
   "cell_type": "code",
   "execution_count": 101,
   "metadata": {},
   "outputs": [
    {
     "data": {
      "text/plain": [
       "1994"
      ]
     },
     "execution_count": 101,
     "metadata": {},
     "output_type": "execute_result"
    }
   ],
   "source": [
    "l = [1 if cat in ['unknown', np.nan] else 0 for cat in df['drv_status']]\n",
    "sum(l)"
   ]
  },
  {
   "cell_type": "code",
   "execution_count": 103,
   "metadata": {},
   "outputs": [
    {
     "name": "stdout",
     "output_type": "stream",
     "text": [
      "1994\n"
     ]
    }
   ],
   "source": [
    "df['drv_status_isnull'] = [1 if cat in ['unknown', np.nan] else 0 for cat in df['drv_status']]\n",
    "\n",
    "print(df['drv_status_isnull'].sum())"
   ]
  },
  {
   "cell_type": "code",
   "execution_count": 10,
   "metadata": {},
   "outputs": [],
   "source": [
    "# drv_ban1_mo\n",
    "\n",
    "# print(df['drv_ban1_mo'].isnull().sum())\n",
    "# print(df['drv_ban1_mo'].value_counts())"
   ]
  },
  {
   "cell_type": "code",
   "execution_count": 108,
   "metadata": {},
   "outputs": [
    {
     "name": "stdout",
     "output_type": "stream",
     "text": [
      "83987\n"
     ]
    }
   ],
   "source": [
    "df['drv_ban1_mo_isnull'] = [1 if cat in ['No record', 'unknown'] else 0 for cat in df['drv_ban1_mo']]\n",
    "print(df['drv_ban1_mo_isnull'].sum())"
   ]
  },
  {
   "cell_type": "code",
   "execution_count": 109,
   "metadata": {},
   "outputs": [
    {
     "name": "stdout",
     "output_type": "stream",
     "text": [
      "7.0     5406\n",
      "3.0     5368\n",
      "8.0     5328\n",
      "10.0    5278\n",
      "5.0     5218\n",
      "9.0     5184\n",
      "1.0     5031\n",
      "6.0     5028\n",
      "4.0     4885\n",
      "2.0     4829\n",
      "11.0    4789\n",
      "12.0    4732\n",
      "Name: drv_ban1_mo_num, dtype: int64\n"
     ]
    }
   ],
   "source": [
    "encoding = {'Jan.': 1, 'Feb.': 2, 'Mar.': 3, 'Apr.': 4, 'May': 5, 'June': 6, 'July': 7, 'Aug.': 8,\n",
    "           'Sept.': 9, 'Oct.': 10, 'Nov.': 11, 'Dec.': 12, 'No record': np.nan, 'unknown': np.nan}\n",
    "\n",
    "df['drv_ban1_mo_num'] = df['drv_ban1_mo'].map(encoding)\n",
    "\n",
    "print(df['drv_ban1_mo_num'].value_counts())"
   ]
  },
  {
   "cell_type": "code",
   "execution_count": 11,
   "metadata": {},
   "outputs": [],
   "source": [
    "# drv_ban1_yr\n",
    "\n",
    "# print(df['drv_ban1_yr'].isnull().sum())\n",
    "# print(df['drv_ban1_yr'].value_counts(dropna = False))"
   ]
  },
  {
   "cell_type": "code",
   "execution_count": 112,
   "metadata": {},
   "outputs": [
    {
     "name": "stdout",
     "output_type": "stream",
     "text": [
      "83984\n"
     ]
    }
   ],
   "source": [
    "df['drv_ban1_yr_isnull'] = [1 if cat in ['No record', 'unknown'] else 0 for cat in df['drv_ban1_yr']]\n",
    "print(df['drv_ban1_yr_isnull'].sum())"
   ]
  },
  {
   "cell_type": "code",
   "execution_count": 113,
   "metadata": {},
   "outputs": [
    {
     "name": "stdout",
     "output_type": "stream",
     "text": [
      "NaN        83984\n",
      " 2009.0    13486\n",
      " 2010.0    13458\n",
      " 2011.0    10695\n",
      " 2008.0     8414\n",
      " 2012.0     7236\n",
      " 2013.0     4329\n",
      " 2007.0     2110\n",
      " 2014.0     1351\n",
      "Name: drv_ban1_yr_num, dtype: int64\n"
     ]
    }
   ],
   "source": [
    "encoding = {'2007': 2007, '2008': 2008, '2009': 2009, '2010': 2010, '2011': 2011, '2012': 2012, '2013': 2013,\n",
    "           '2014': 2014, 'No record': np.nan, 'unknown': np.nan}\n",
    "\n",
    "df['drv_ban1_yr_num'] = df['drv_ban1_yr'].map(encoding)\n",
    "\n",
    "print(df['drv_ban1_yr_num'].value_counts(dropna = False))"
   ]
  },
  {
   "cell_type": "code",
   "execution_count": 114,
   "metadata": {},
   "outputs": [
    {
     "name": "stdout",
     "output_type": "stream",
     "text": [
      "0\n",
      "No record    81260\n",
      "Aug.          5413\n",
      "July          5384\n",
      "May           5305\n",
      "Mar.          5282\n",
      "Oct.          5224\n",
      "June          5216\n",
      "Sept.         5063\n",
      "Jan.          5061\n",
      "Dec.          4909\n",
      "Apr.          4877\n",
      "Feb.          4686\n",
      "Nov.          4659\n",
      "unknown       2724\n",
      "Name: drv_ban2_mo, dtype: int64\n"
     ]
    }
   ],
   "source": [
    "# drv_ban2_mo\n",
    "\n",
    "print(df['drv_ban2_mo'].isnull().sum())\n",
    "print(df['drv_ban2_mo'].value_counts(dropna = False))"
   ]
  },
  {
   "cell_type": "code",
   "execution_count": 115,
   "metadata": {},
   "outputs": [
    {
     "name": "stdout",
     "output_type": "stream",
     "text": [
      "83983\n"
     ]
    }
   ],
   "source": [
    "df['drv_ban2_mo_isnull'] = [1 if cat in ['No record', 'unknown'] else 0 for cat in df['drv_ban2_yr']]\n",
    "print(df['drv_ban2_mo_isnull'].sum())"
   ]
  },
  {
   "cell_type": "code",
   "execution_count": 116,
   "metadata": {},
   "outputs": [
    {
     "name": "stdout",
     "output_type": "stream",
     "text": [
      "8.0     5413\n",
      "7.0     5384\n",
      "5.0     5305\n",
      "3.0     5282\n",
      "10.0    5224\n",
      "6.0     5216\n",
      "9.0     5063\n",
      "1.0     5061\n",
      "12.0    4909\n",
      "4.0     4877\n",
      "2.0     4686\n",
      "11.0    4659\n",
      "Name: drv_ban2_mo_num, dtype: int64\n"
     ]
    }
   ],
   "source": [
    "encoding = {'Jan.': 1, 'Feb.': 2, 'Mar.': 3, 'Apr.': 4, 'May': 5, 'June': 6, 'July': 7, 'Aug.': 8,\n",
    "           'Sept.': 9, 'Oct.': 10, 'Nov.': 11, 'Dec.': 12, 'No record': np.nan, 'unknown': np.nan}\n",
    "\n",
    "df['drv_ban2_mo_num'] = df['drv_ban2_mo'].map(encoding)\n",
    "\n",
    "print(df['drv_ban2_mo_num'].value_counts())"
   ]
  },
  {
   "cell_type": "code",
   "execution_count": 118,
   "metadata": {},
   "outputs": [
    {
     "name": "stdout",
     "output_type": "stream",
     "text": [
      "0\n",
      "No record    81260\n",
      "2011         13908\n",
      "2012         12148\n",
      "2010         11195\n",
      "2013          9218\n",
      "2009          6956\n",
      "2014          3957\n",
      "2008          3088\n",
      "unknown       2723\n",
      "2007           610\n",
      "Name: drv_ban2_yr, dtype: int64\n"
     ]
    }
   ],
   "source": [
    "# drv_ban2_yr\n",
    "\n",
    "print(df['drv_ban2_yr'].isnull().sum())\n",
    "print(df['drv_ban2_yr'].value_counts(dropna = False))"
   ]
  },
  {
   "cell_type": "code",
   "execution_count": 119,
   "metadata": {},
   "outputs": [
    {
     "name": "stdout",
     "output_type": "stream",
     "text": [
      "83983\n"
     ]
    }
   ],
   "source": [
    "df['drv_ban2_yr_isnull'] = [1 if cat in ['No record', 'unknown'] else 0 for cat in df['drv_ban2_yr']]\n",
    "print(df['drv_ban2_yr_isnull'].sum())"
   ]
  },
  {
   "cell_type": "code",
   "execution_count": 120,
   "metadata": {},
   "outputs": [
    {
     "name": "stdout",
     "output_type": "stream",
     "text": [
      "NaN        83983\n",
      " 2011.0    13908\n",
      " 2012.0    12148\n",
      " 2010.0    11195\n",
      " 2013.0     9218\n",
      " 2009.0     6956\n",
      " 2014.0     3957\n",
      " 2008.0     3088\n",
      " 2007.0      610\n",
      "Name: drv_ban2_yr_num, dtype: int64\n"
     ]
    }
   ],
   "source": [
    "encoding = {'2007': 2007, '2008': 2008, '2009': 2009, '2010': 2010, '2011': 2011, '2012': 2012, '2013': 2013,\n",
    "           '2014': 2014, 'No record': np.nan, 'unknown': np.nan}\n",
    "\n",
    "df['drv_ban2_yr_num'] = df['drv_ban2_yr'].map(encoding)\n",
    "\n",
    "print(df['drv_ban2_yr_num'].value_counts(dropna = False))"
   ]
  },
  {
   "cell_type": "code",
   "execution_count": 123,
   "metadata": {},
   "outputs": [
    {
     "name": "stdout",
     "output_type": "stream",
     "text": [
      "0\n",
      "No     118605\n",
      "Yes     26458\n",
      "Name: drv_alcohol, dtype: int64\n"
     ]
    }
   ],
   "source": [
    "#drv_alcohol\n",
    "\n",
    "print(df['drv_alcohol'].isnull().sum())\n",
    "print(df['drv_alcohol'].value_counts(dropna = False))"
   ]
  },
  {
   "cell_type": "code",
   "execution_count": 125,
   "metadata": {},
   "outputs": [
    {
     "name": "stdout",
     "output_type": "stream",
     "text": [
      "0\n",
      "Road departure                    22962\n",
      "unknown                           22153\n",
      "Head on collision                 16931\n",
      "Impact pedestrian                 14205\n",
      "Crossing paths                    13341\n",
      "Road departure loss of control    11927\n",
      "Side collision                    10933\n",
      "Turning across path               10379\n",
      "Turning into path                  6475\n",
      "Rear ended slowed                  5026\n",
      "Rear ended stationary              4381\n",
      "Rear ended braking                 1744\n",
      "Impact other                       1068\n",
      "Rear ended other                   1038\n",
      "Side collision changing lanes       781\n",
      "Impact parked vehicle               531\n",
      "Road departure avoid collision      412\n",
      "Impact other frontal                325\n",
      "Reversing                           251\n",
      "Impact fixed object                 200\n",
      "Name: inc_type, dtype: int64\n"
     ]
    }
   ],
   "source": [
    "# inc_type\n",
    "\n",
    "print(df['inc_type'].isnull().sum())\n",
    "print(df['inc_type'].value_counts(dropna = False))"
   ]
  },
  {
   "cell_type": "code",
   "execution_count": 126,
   "metadata": {},
   "outputs": [
    {
     "name": "stdout",
     "output_type": "stream",
     "text": [
      "22153\n"
     ]
    }
   ],
   "source": [
    "df['inc_type_isnull'] = [1 if cat in ['unknown'] else 0 for cat in df['inc_type']]\n",
    "print(df['inc_type_isnull'].sum())"
   ]
  },
  {
   "cell_type": "code",
   "execution_count": 127,
   "metadata": {},
   "outputs": [
    {
     "name": "stdout",
     "output_type": "stream",
     "text": [
      "0\n",
      "No         112985\n",
      "Yes         26342\n",
      "unknown      5736\n",
      "Name: inc_speeding, dtype: int64\n"
     ]
    }
   ],
   "source": [
    "# inc_speeding\n",
    "\n",
    "print(df['inc_speeding'].isnull().sum())\n",
    "print(df['inc_speeding'].value_counts(dropna = False))"
   ]
  },
  {
   "cell_type": "code",
   "execution_count": 129,
   "metadata": {},
   "outputs": [
    {
     "name": "stdout",
     "output_type": "stream",
     "text": [
      "5736\n"
     ]
    }
   ],
   "source": [
    "df['inc_speeding_isnull'] = [1 if cat in ['unknown'] else 0 for cat in df['inc_speeding']]\n",
    "print(df['inc_speeding_isnull'].sum())"
   ]
  },
  {
   "cell_type": "code",
   "execution_count": 130,
   "metadata": {},
   "outputs": [
    {
     "name": "stdout",
     "output_type": "stream",
     "text": [
      "0\n",
      "unknown                 73000\n",
      "No maneuver             43539\n",
      "Swerving                14052\n",
      "Braking                  8163\n",
      "Braking and Swerving     4323\n",
      "Other                    1365\n",
      "Accelerating              370\n",
      "No Driver                 138\n",
      "Releasing brakes          113\n",
      "Name: veh_braking, dtype: int64\n"
     ]
    }
   ],
   "source": [
    "# veh_braking\n",
    "\n",
    "print(df['veh_braking'].isnull().sum())\n",
    "print(df['veh_braking'].value_counts(dropna = False))"
   ]
  },
  {
   "cell_type": "code",
   "execution_count": 131,
   "metadata": {},
   "outputs": [
    {
     "name": "stdout",
     "output_type": "stream",
     "text": [
      "73000\n"
     ]
    }
   ],
   "source": [
    "df['veh_braking_isnull'] = [1 if cat in ['unknown'] else 0 for cat in df['veh_braking']]\n",
    "print(df['veh_braking_isnull'].sum())"
   ]
  },
  {
   "cell_type": "code",
   "execution_count": 133,
   "metadata": {},
   "outputs": [
    {
     "name": "stdout",
     "output_type": "stream",
     "text": [
      "0\n",
      "Wheel misalignment       82715\n",
      "unknown                  47087\n",
      "Skidding with twist       8860\n",
      "Skidding                  5995\n",
      "Other loss of control      306\n",
      "No Driver                  100\n",
      "Name: veh_stability, dtype: int64\n"
     ]
    }
   ],
   "source": [
    "# veh_stability\n",
    "\n",
    "print(df['veh_stability'].isnull().sum())\n",
    "print(df['veh_stability'].value_counts(dropna = False))"
   ]
  },
  {
   "cell_type": "code",
   "execution_count": 134,
   "metadata": {},
   "outputs": [
    {
     "name": "stdout",
     "output_type": "stream",
     "text": [
      "47087\n"
     ]
    }
   ],
   "source": [
    "df['veh_stability_isnull'] = [1 if cat in ['unknown'] else 0 for cat in df['veh_stability']]\n",
    "print(df['veh_stability_isnull'].sum())"
   ]
  },
  {
   "cell_type": "code",
   "execution_count": 135,
   "metadata": {},
   "outputs": [
    {
     "name": "stdout",
     "output_type": "stream",
     "text": [
      "0\n",
      "Stayed in lane                 60314\n",
      "unknown                        38653\n",
      "Departed road                  29698\n",
      "Departed lane                  12364\n",
      "Other movement                  2226\n",
      "Stayed on road unknown lane     1708\n",
      "No Driver                        100\n",
      "Name: veh_movement, dtype: int64\n"
     ]
    }
   ],
   "source": [
    "# veh_movement\n",
    "\n",
    "print(df['veh_movement'].isnull().sum())\n",
    "print(df['veh_movement'].value_counts(dropna = True))"
   ]
  },
  {
   "cell_type": "code",
   "execution_count": 136,
   "metadata": {},
   "outputs": [
    {
     "name": "stdout",
     "output_type": "stream",
     "text": [
      "38653\n"
     ]
    }
   ],
   "source": [
    "df['veh_movement_isnull'] = [1 if cat in ['unknown'] else 0 for cat in df['veh_movement']]\n",
    "print(df['veh_movement_isnull'].sum())"
   ]
  },
  {
   "cell_type": "code",
   "execution_count": 137,
   "metadata": {},
   "outputs": [
    {
     "name": "stdout",
     "output_type": "stream",
     "text": [
      "0\n",
      "Head on              74922\n",
      "Not a collision      11182\n",
      "Rear end              9948\n",
      "Side right            9343\n",
      "Side left             8089\n",
      "Front 30deg right     5621\n",
      "unknown               5452\n",
      "Front 30deg left      4990\n",
      "Front 60deg right     3497\n",
      "Front 60deg left      3198\n",
      "Other area            2336\n",
      "Back 60deg right      1880\n",
      "Back 60deg left       1726\n",
      "Back 30deg right      1427\n",
      "Back 30deg left       1284\n",
      "Object impact          168\n",
      "Name: veh_impact, dtype: int64\n"
     ]
    }
   ],
   "source": [
    "# veh_impact\n",
    "\n",
    "print(df['veh_impact'].isnull().sum())\n",
    "print(df['veh_impact'].value_counts())"
   ]
  },
  {
   "cell_type": "code",
   "execution_count": 139,
   "metadata": {},
   "outputs": [
    {
     "name": "stdout",
     "output_type": "stream",
     "text": [
      "5452\n"
     ]
    }
   ],
   "source": [
    "df['veh_impact_isnull'] = [1 if cat in ['unknown'] else 0 for cat in df['veh_impact']]\n",
    "\n",
    "print(df['veh_impact_isnull'].sum())"
   ]
  },
  {
   "cell_type": "code",
   "execution_count": 140,
   "metadata": {},
   "outputs": [
    {
     "name": "stdout",
     "output_type": "stream",
     "text": [
      "0\n",
      "Collision with in-transit vehicle    82911\n",
      "Collision with lifeform              16338\n",
      "Collision with object                15434\n",
      "Non-roadway                          11750\n",
      "Instability                          10597\n",
      "Collision with safety barrier         4853\n",
      "Collision with parked vehicle         1557\n",
      "Dynamic                               1220\n",
      "Hit by other vehicle                   153\n",
      "Non-collision                          140\n",
      "Pothole                                 76\n",
      "unknown                                 34\n",
      "Name: inc_descrip, dtype: int64\n"
     ]
    }
   ],
   "source": [
    "# inc_descrip\n",
    "\n",
    "print(df['inc_descrip'].isnull().sum())\n",
    "print(df['inc_descrip'].value_counts())"
   ]
  },
  {
   "cell_type": "code",
   "execution_count": 142,
   "metadata": {},
   "outputs": [
    {
     "name": "stdout",
     "output_type": "stream",
     "text": [
      "34\n"
     ]
    }
   ],
   "source": [
    "df['inc_descrip_isnull'] = [1 if cat in ['unknown'] else 0 for cat in df['inc_descrip']]\n",
    "print(df['inc_descrip_isnull'].sum())"
   ]
  },
  {
   "cell_type": "code",
   "execution_count": 143,
   "metadata": {},
   "outputs": [
    {
     "name": "stdout",
     "output_type": "stream",
     "text": [
      "0\n",
      "Collision with in-transit vehicle    81566\n",
      "Instability                          19065\n",
      "Collision with lifeform              16278\n",
      "Collision with object                15859\n",
      "Non-roadway                           3546\n",
      "Dynamic                               2938\n",
      "Collision with safety barrier         2532\n",
      "Hit by other vehicle                  1603\n",
      "Collision with parked vehicle          948\n",
      "unknown                                635\n",
      "Non-collision                           83\n",
      "Pothole                                 10\n",
      "Name: veh_descrip, dtype: int64\n"
     ]
    }
   ],
   "source": [
    "# veh_descrip\n",
    "\n",
    "print(df['veh_descrip'].isnull().sum())\n",
    "print(df['veh_descrip'].value_counts())"
   ]
  },
  {
   "cell_type": "code",
   "execution_count": 145,
   "metadata": {},
   "outputs": [
    {
     "name": "stdout",
     "output_type": "stream",
     "text": [
      "635\n"
     ]
    }
   ],
   "source": [
    "df['veh_descrip_isnull'] = [1 if cat in ['unknown'] else 0 for cat in df['veh_descrip']]\n",
    "print(df['veh_descrip_isnull'].sum())"
   ]
  },
  {
   "cell_type": "code",
   "execution_count": 146,
   "metadata": {},
   "outputs": [
    {
     "name": "stdout",
     "output_type": "stream",
     "text": [
      "0\n",
      "Disabling    109296\n",
      "Moderate      13770\n",
      "Minor         10132\n",
      "unknown        9400\n",
      "No damage      2465\n",
      "Name: veh_damage, dtype: int64\n"
     ]
    }
   ],
   "source": [
    "# veh_damage\n",
    "\n",
    "print(df['veh_damage'].isnull().sum())\n",
    "print(df['veh_damage'].value_counts())"
   ]
  },
  {
   "cell_type": "code",
   "execution_count": 147,
   "metadata": {},
   "outputs": [
    {
     "name": "stdout",
     "output_type": "stream",
     "text": [
      "9400\n"
     ]
    }
   ],
   "source": [
    "df['veh_damage_isnull'] = [1 if cat in ['unknown'] else 0 for cat in df['veh_damage']]\n",
    "print(df['veh_damage_isnull'].sum())"
   ]
  },
  {
   "cell_type": "code",
   "execution_count": 148,
   "metadata": {},
   "outputs": [],
   "source": [
    "# numerical features"
   ]
  },
  {
   "cell_type": "code",
   "execution_count": 149,
   "metadata": {},
   "outputs": [
    {
     "data": {
      "text/plain": [
       "0"
      ]
     },
     "execution_count": 149,
     "metadata": {},
     "output_type": "execute_result"
    }
   ],
   "source": [
    "# total_veh_in_inc\n",
    "\n",
    "df['total_veh_in_inc'].isnull().sum()"
   ]
  },
  {
   "cell_type": "code",
   "execution_count": 150,
   "metadata": {},
   "outputs": [
    {
     "data": {
      "text/plain": [
       "0"
      ]
     },
     "execution_count": 150,
     "metadata": {},
     "output_type": "execute_result"
    }
   ],
   "source": [
    "sum(df['total_veh_in_inc'] == -1)"
   ]
  },
  {
   "cell_type": "code",
   "execution_count": 152,
   "metadata": {},
   "outputs": [
    {
     "data": {
      "text/plain": [
       "0"
      ]
     },
     "execution_count": 152,
     "metadata": {},
     "output_type": "execute_result"
    }
   ],
   "source": [
    "# total_occ_in_inc\n",
    "\n",
    "df['total_occ_in_veh'].isnull().sum()"
   ]
  },
  {
   "cell_type": "code",
   "execution_count": 153,
   "metadata": {},
   "outputs": [
    {
     "data": {
      "text/plain": [
       "0"
      ]
     },
     "execution_count": 153,
     "metadata": {},
     "output_type": "execute_result"
    }
   ],
   "source": [
    "sum(df['total_occ_in_veh'] == -1)"
   ]
  },
  {
   "cell_type": "code",
   "execution_count": 154,
   "metadata": {},
   "outputs": [
    {
     "data": {
      "text/plain": [
       "0"
      ]
     },
     "execution_count": 154,
     "metadata": {},
     "output_type": "execute_result"
    }
   ],
   "source": [
    "# actual_veh_in_inc\n",
    "\n",
    "df['actual_veh_in_inc'].isnull().sum()"
   ]
  },
  {
   "cell_type": "code",
   "execution_count": 156,
   "metadata": {},
   "outputs": [
    {
     "data": {
      "text/plain": [
       "0"
      ]
     },
     "execution_count": 156,
     "metadata": {},
     "output_type": "execute_result"
    }
   ],
   "source": [
    "sum(df['actual_veh_in_inc'] == -1)"
   ]
  },
  {
   "cell_type": "code",
   "execution_count": 157,
   "metadata": {},
   "outputs": [
    {
     "data": {
      "text/plain": [
       "0"
      ]
     },
     "execution_count": 157,
     "metadata": {},
     "output_type": "execute_result"
    }
   ],
   "source": [
    "# actual_per_in_inc\n",
    "\n",
    "df['actual_per_in_inc'].isnull().sum()"
   ]
  },
  {
   "cell_type": "code",
   "execution_count": 158,
   "metadata": {},
   "outputs": [
    {
     "data": {
      "text/plain": [
       "0"
      ]
     },
     "execution_count": 158,
     "metadata": {},
     "output_type": "execute_result"
    }
   ],
   "source": [
    "sum(df['actual_per_in_inc'] == -1)"
   ]
  },
  {
   "cell_type": "code",
   "execution_count": 159,
   "metadata": {},
   "outputs": [
    {
     "data": {
      "text/plain": [
       "0"
      ]
     },
     "execution_count": 159,
     "metadata": {},
     "output_type": "execute_result"
    }
   ],
   "source": [
    "# actual_occ_in_veh\n",
    "\n",
    "df['actual_occ_in_veh'].isnull().sum()"
   ]
  },
  {
   "cell_type": "code",
   "execution_count": 160,
   "metadata": {},
   "outputs": [
    {
     "data": {
      "text/plain": [
       "0"
      ]
     },
     "execution_count": 160,
     "metadata": {},
     "output_type": "execute_result"
    }
   ],
   "source": [
    "sum(df['actual_occ_in_veh'] == -1)"
   ]
  },
  {
   "cell_type": "code",
   "execution_count": 161,
   "metadata": {},
   "outputs": [
    {
     "data": {
      "text/plain": [
       "0"
      ]
     },
     "execution_count": 161,
     "metadata": {},
     "output_type": "execute_result"
    }
   ],
   "source": [
    "# actual_ped\n",
    "\n",
    "df['actual_ped'].isnull().sum()"
   ]
  },
  {
   "cell_type": "code",
   "execution_count": 162,
   "metadata": {},
   "outputs": [
    {
     "data": {
      "text/plain": [
       "0"
      ]
     },
     "execution_count": 162,
     "metadata": {},
     "output_type": "execute_result"
    }
   ],
   "source": [
    "sum(df['actual_ped'] == -1)"
   ]
  },
  {
   "cell_type": "code",
   "execution_count": 163,
   "metadata": {},
   "outputs": [
    {
     "data": {
      "text/plain": [
       "0    48\n",
       "1    48\n",
       "2     6\n",
       "3     6\n",
       "4     6\n",
       "Name: inc_region, dtype: int64"
      ]
     },
     "execution_count": 163,
     "metadata": {},
     "output_type": "execute_result"
    }
   ],
   "source": [
    "# inc_region\n",
    "\n",
    "df['inc_region'].head()"
   ]
  },
  {
   "cell_type": "code",
   "execution_count": 164,
   "metadata": {},
   "outputs": [
    {
     "data": {
      "text/plain": [
       "0"
      ]
     },
     "execution_count": 164,
     "metadata": {},
     "output_type": "execute_result"
    }
   ],
   "source": [
    "df['inc_region'].isnull().sum()"
   ]
  },
  {
   "cell_type": "code",
   "execution_count": 165,
   "metadata": {},
   "outputs": [
    {
     "data": {
      "text/plain": [
       "0"
      ]
     },
     "execution_count": 165,
     "metadata": {},
     "output_type": "execute_result"
    }
   ],
   "source": [
    "sum(df['inc_region'] == -1)"
   ]
  },
  {
   "cell_type": "code",
   "execution_count": 166,
   "metadata": {},
   "outputs": [
    {
     "data": {
      "text/plain": [
       "0"
      ]
     },
     "execution_count": 166,
     "metadata": {},
     "output_type": "execute_result"
    }
   ],
   "source": [
    "# veh_lanes\n",
    "\n",
    "df['veh_lanes'].isnull().sum()"
   ]
  },
  {
   "cell_type": "code",
   "execution_count": 167,
   "metadata": {},
   "outputs": [
    {
     "data": {
      "text/plain": [
       "1402"
      ]
     },
     "execution_count": 167,
     "metadata": {},
     "output_type": "execute_result"
    }
   ],
   "source": [
    "sum(df['veh_lanes'] == -1)"
   ]
  },
  {
   "cell_type": "code",
   "execution_count": 169,
   "metadata": {},
   "outputs": [
    {
     "name": "stdout",
     "output_type": "stream",
     "text": [
      "1402\n",
      "[0, 0, 0, 0, 0]\n"
     ]
    }
   ],
   "source": [
    "l = [1 if num == -1 else 0 for num in df['veh_lanes']]\n",
    "print(sum(l))\n",
    "print(l[:5])"
   ]
  },
  {
   "cell_type": "code",
   "execution_count": 171,
   "metadata": {},
   "outputs": [],
   "source": [
    "df['veh_lanes_isnull'] = [1 if num == -1 else 0 for num in df['veh_lanes']]"
   ]
  },
  {
   "cell_type": "code",
   "execution_count": 172,
   "metadata": {},
   "outputs": [
    {
     "name": "stdout",
     "output_type": "stream",
     "text": [
      "0\n"
     ]
    }
   ],
   "source": [
    "# veh_speedlim\n",
    "\n",
    "print(df['veh_speedlim'].isnull().sum())"
   ]
  },
  {
   "cell_type": "code",
   "execution_count": 173,
   "metadata": {},
   "outputs": [
    {
     "data": {
      "text/plain": [
       "5383"
      ]
     },
     "execution_count": 173,
     "metadata": {},
     "output_type": "execute_result"
    }
   ],
   "source": [
    "sum(df['veh_speedlim'] == -1)"
   ]
  },
  {
   "cell_type": "code",
   "execution_count": 174,
   "metadata": {},
   "outputs": [],
   "source": [
    "df['veh_speedlim_isnull'] = [1 if num == -1 else 0 for num in df['veh_speedlim']]"
   ]
  },
  {
   "cell_type": "code",
   "execution_count": 175,
   "metadata": {},
   "outputs": [
    {
     "data": {
      "text/plain": [
       "5383"
      ]
     },
     "execution_count": 175,
     "metadata": {},
     "output_type": "execute_result"
    }
   ],
   "source": [
    "sum(df['veh_speedlim_isnull'])"
   ]
  },
  {
   "cell_type": "code",
   "execution_count": 176,
   "metadata": {},
   "outputs": [
    {
     "data": {
      "text/plain": [
       "0"
      ]
     },
     "execution_count": 176,
     "metadata": {},
     "output_type": "execute_result"
    }
   ],
   "source": [
    "#occ_age\n",
    "\n",
    "df['occ_age'].isnull().sum()"
   ]
  },
  {
   "cell_type": "code",
   "execution_count": 177,
   "metadata": {},
   "outputs": [
    {
     "data": {
      "text/plain": [
       "577"
      ]
     },
     "execution_count": 177,
     "metadata": {},
     "output_type": "execute_result"
    }
   ],
   "source": [
    "sum(df['occ_age'] == -1)"
   ]
  },
  {
   "cell_type": "code",
   "execution_count": 180,
   "metadata": {},
   "outputs": [],
   "source": [
    "df['occ_age_isnull'] = [1 if num == -1 else 0 for num in df['occ_age']]"
   ]
  },
  {
   "cell_type": "code",
   "execution_count": 181,
   "metadata": {},
   "outputs": [
    {
     "data": {
      "text/plain": [
       "577"
      ]
     },
     "execution_count": 181,
     "metadata": {},
     "output_type": "execute_result"
    }
   ],
   "source": [
    "sum(df['occ_age_isnull'])"
   ]
  },
  {
   "cell_type": "code",
   "execution_count": 183,
   "metadata": {},
   "outputs": [
    {
     "data": {
      "text/plain": [
       "0"
      ]
     },
     "execution_count": 183,
     "metadata": {},
     "output_type": "execute_result"
    }
   ],
   "source": [
    "#veh_age\n",
    "\n",
    "df['veh_year'].isnull().sum()"
   ]
  },
  {
   "cell_type": "code",
   "execution_count": 184,
   "metadata": {},
   "outputs": [
    {
     "data": {
      "text/plain": [
       "758"
      ]
     },
     "execution_count": 184,
     "metadata": {},
     "output_type": "execute_result"
    }
   ],
   "source": [
    "sum(df['veh_year'] == -1)"
   ]
  },
  {
   "cell_type": "code",
   "execution_count": 186,
   "metadata": {},
   "outputs": [
    {
     "name": "stdout",
     "output_type": "stream",
     "text": [
      "758\n"
     ]
    }
   ],
   "source": [
    "df['veh_year_isnull'] = [1 if num == -1 else 0 for num in df['veh_year']]\n",
    "\n",
    "print(sum(df['veh_year_isnull']))"
   ]
  },
  {
   "cell_type": "code",
   "execution_count": 187,
   "metadata": {},
   "outputs": [
    {
     "data": {
      "text/plain": [
       "0"
      ]
     },
     "execution_count": 187,
     "metadata": {},
     "output_type": "execute_result"
    }
   ],
   "source": [
    "# veh_doors\n",
    "\n",
    "df['veh_doors'].isnull().sum()"
   ]
  },
  {
   "cell_type": "code",
   "execution_count": 188,
   "metadata": {},
   "outputs": [
    {
     "data": {
      "text/plain": [
       "3298"
      ]
     },
     "execution_count": 188,
     "metadata": {},
     "output_type": "execute_result"
    }
   ],
   "source": [
    "sum(df['veh_doors'] == -1)"
   ]
  },
  {
   "cell_type": "code",
   "execution_count": 190,
   "metadata": {},
   "outputs": [
    {
     "name": "stdout",
     "output_type": "stream",
     "text": [
      "3298\n"
     ]
    }
   ],
   "source": [
    "df['veh_doors_isnull'] = [1 if num == -1 else 0 for num in df['veh_doors']]\n",
    "\n",
    "print(sum(df['veh_doors_isnull']))"
   ]
  },
  {
   "cell_type": "code",
   "execution_count": 191,
   "metadata": {},
   "outputs": [
    {
     "name": "stdout",
     "output_type": "stream",
     "text": [
      "0\n",
      "47927\n"
     ]
    }
   ],
   "source": [
    "#veh_wheels\n",
    "\n",
    "print(df['veh_wheels'].isnull().sum())\n",
    "print(sum(df['veh_wheels'] == -1))"
   ]
  },
  {
   "cell_type": "code",
   "execution_count": 192,
   "metadata": {},
   "outputs": [
    {
     "name": "stdout",
     "output_type": "stream",
     "text": [
      "47927\n"
     ]
    }
   ],
   "source": [
    "df['veh_wheels_isnull'] = [1 if num == -1 else 0 for num in df['veh_wheels']]\n",
    "print(sum(df['veh_wheels_isnull']))"
   ]
  },
  {
   "cell_type": "code",
   "execution_count": 194,
   "metadata": {},
   "outputs": [
    {
     "name": "stdout",
     "output_type": "stream",
     "text": [
      "0\n",
      "18435\n"
     ]
    }
   ],
   "source": [
    "# veh_eng1\n",
    "\n",
    "print(df['veh_eng1'].isnull().sum())\n",
    "print(sum(df['veh_eng1'] == -1))"
   ]
  },
  {
   "cell_type": "code",
   "execution_count": 195,
   "metadata": {},
   "outputs": [
    {
     "name": "stdout",
     "output_type": "stream",
     "text": [
      "18435\n"
     ]
    }
   ],
   "source": [
    "df['veh_eng1_isnull'] = [1 if num == -1 else 0 for num in df['veh_eng1']]\n",
    "\n",
    "print(sum(df['veh_eng1_isnull']))"
   ]
  },
  {
   "cell_type": "code",
   "execution_count": 196,
   "metadata": {},
   "outputs": [
    {
     "name": "stdout",
     "output_type": "stream",
     "text": [
      "0\n",
      "3617\n"
     ]
    }
   ],
   "source": [
    "#veh_eng2\n",
    "\n",
    "print(df['veh_eng2'].isnull().sum())\n",
    "print(sum(df['veh_eng2'] == -1))"
   ]
  },
  {
   "cell_type": "code",
   "execution_count": 197,
   "metadata": {},
   "outputs": [
    {
     "name": "stdout",
     "output_type": "stream",
     "text": [
      "3617\n"
     ]
    }
   ],
   "source": [
    "df['veh_eng2_isnull'] = [1 if num == -1 else 0 for num in df['veh_eng2']]\n",
    "\n",
    "print(sum(df['veh_eng2_isnull']))"
   ]
  },
  {
   "cell_type": "code",
   "execution_count": 198,
   "metadata": {},
   "outputs": [
    {
     "name": "stdout",
     "output_type": "stream",
     "text": [
      "0\n",
      "20385\n"
     ]
    }
   ],
   "source": [
    "# drv_height\n",
    "\n",
    "print(df['drv_height'].isnull().sum())\n",
    "print(sum(df['drv_height'] == -1))"
   ]
  },
  {
   "cell_type": "code",
   "execution_count": 199,
   "metadata": {},
   "outputs": [
    {
     "name": "stdout",
     "output_type": "stream",
     "text": [
      "20385\n"
     ]
    }
   ],
   "source": [
    "df['drv_height_isnull'] = [1 if num == -1 else 0 for num in df['drv_height']]\n",
    "\n",
    "print(sum(df['drv_height_isnull']))"
   ]
  },
  {
   "cell_type": "code",
   "execution_count": 200,
   "metadata": {},
   "outputs": [
    {
     "name": "stdout",
     "output_type": "stream",
     "text": [
      "0\n",
      "50726\n"
     ]
    }
   ],
   "source": [
    "#drv_weight\n",
    "\n",
    "print(df['drv_weight'].isnull().sum())\n",
    "print(sum(df['drv_weight'] == -1))"
   ]
  },
  {
   "cell_type": "code",
   "execution_count": 201,
   "metadata": {},
   "outputs": [
    {
     "name": "stdout",
     "output_type": "stream",
     "text": [
      "50726\n"
     ]
    }
   ],
   "source": [
    "df['drv_weight_isnull'] = [1 if num == -1 else 0 for num in df['drv_weight']]\n",
    "\n",
    "print(sum(df['drv_weight_isnull']))"
   ]
  },
  {
   "cell_type": "code",
   "execution_count": 202,
   "metadata": {},
   "outputs": [
    {
     "name": "stdout",
     "output_type": "stream",
     "text": [
      "0\n",
      "15605\n"
     ]
    }
   ],
   "source": [
    "# drv_crash\n",
    "\n",
    "print(df['drv_crash'].isnull().sum())\n",
    "print(sum(df['drv_crash'] == -1))"
   ]
  },
  {
   "cell_type": "code",
   "execution_count": 203,
   "metadata": {},
   "outputs": [
    {
     "name": "stdout",
     "output_type": "stream",
     "text": [
      "15605\n"
     ]
    }
   ],
   "source": [
    "df['drv_crash_isnull'] = [1 if num == -1 else 0 for num in df['drv_crash']]\n",
    "\n",
    "print(sum(df['drv_crash_isnull']))"
   ]
  },
  {
   "cell_type": "code",
   "execution_count": 204,
   "metadata": {},
   "outputs": [
    {
     "name": "stdout",
     "output_type": "stream",
     "text": [
      "0\n",
      "3253\n"
     ]
    }
   ],
   "source": [
    "# drv_pts\n",
    "\n",
    "print(df['drv_pts'].isnull().sum())\n",
    "print(sum(df['drv_pts'] == -1))"
   ]
  },
  {
   "cell_type": "code",
   "execution_count": 205,
   "metadata": {},
   "outputs": [
    {
     "name": "stdout",
     "output_type": "stream",
     "text": [
      "3253\n"
     ]
    }
   ],
   "source": [
    "df['drv_pts_isnull'] = [1 if num == -1 else 0 for num in df['drv_pts']]\n",
    "print(sum(df['drv_pts_isnull']))"
   ]
  },
  {
   "cell_type": "code",
   "execution_count": 206,
   "metadata": {},
   "outputs": [
    {
     "name": "stdout",
     "output_type": "stream",
     "text": [
      "0\n",
      "3253\n"
     ]
    }
   ],
   "source": [
    "# drv_dui\n",
    "\n",
    "print(df['drv_dui'].isnull().sum())\n",
    "print(sum(df['drv_dui'] == -1))"
   ]
  },
  {
   "cell_type": "code",
   "execution_count": 207,
   "metadata": {},
   "outputs": [
    {
     "name": "stdout",
     "output_type": "stream",
     "text": [
      "3253\n"
     ]
    }
   ],
   "source": [
    "df['drv_dui_isnull'] = [1 if num == -1 else 0 for num in df['drv_dui']]\n",
    "print(sum(df['drv_dui_isnull']))"
   ]
  },
  {
   "cell_type": "code",
   "execution_count": 210,
   "metadata": {},
   "outputs": [
    {
     "name": "stdout",
     "output_type": "stream",
     "text": [
      "0\n",
      "3253\n"
     ]
    }
   ],
   "source": [
    "# drv_spd\n",
    "\n",
    "print(df['drv_spd'].isnull().sum())\n",
    "print(sum(df['drv_spd'] == -1))"
   ]
  },
  {
   "cell_type": "code",
   "execution_count": 209,
   "metadata": {},
   "outputs": [
    {
     "name": "stdout",
     "output_type": "stream",
     "text": [
      "3253\n"
     ]
    }
   ],
   "source": [
    "df['drv_spd_isnull'] = [1 if num == -1 else 0 for num in df['drv_spd']]\n",
    "\n",
    "print(sum(df['drv_spd_isnull']))"
   ]
  },
  {
   "cell_type": "code",
   "execution_count": 211,
   "metadata": {},
   "outputs": [
    {
     "name": "stdout",
     "output_type": "stream",
     "text": [
      "0\n",
      "88909\n"
     ]
    }
   ],
   "source": [
    "#veh_speed\n",
    "\n",
    "print(df['veh_speed'].isnull().sum())\n",
    "print(sum(df['veh_speed'] == -1))"
   ]
  },
  {
   "cell_type": "code",
   "execution_count": 212,
   "metadata": {},
   "outputs": [
    {
     "name": "stdout",
     "output_type": "stream",
     "text": [
      "88909\n"
     ]
    }
   ],
   "source": [
    "df['veh_speed_isnull'] = [1 if num == -1 else 0 for num in df['veh_speed']]\n",
    "print(sum(df['veh_speed_isnull']))"
   ]
  },
  {
   "cell_type": "code",
   "execution_count": 12,
   "metadata": {},
   "outputs": [],
   "source": [
    "# df.head()"
   ]
  },
  {
   "cell_type": "code",
   "execution_count": 214,
   "metadata": {},
   "outputs": [
    {
     "data": {
      "text/plain": [
       "(145063, 117)"
      ]
     },
     "execution_count": 214,
     "metadata": {},
     "output_type": "execute_result"
    }
   ],
   "source": [
    "df.shape"
   ]
  },
  {
   "cell_type": "code",
   "execution_count": 13,
   "metadata": {},
   "outputs": [],
   "source": [
    "# df.T"
   ]
  },
  {
   "cell_type": "code",
   "execution_count": 217,
   "metadata": {},
   "outputs": [],
   "source": [
    "df.to_pickle('pp_train_isnull_1.pkl')"
   ]
  },
  {
   "cell_type": "code",
   "execution_count": 14,
   "metadata": {},
   "outputs": [],
   "source": [
    "#calculate missing value counts for categorical features\n",
    "# pd.set_option('display.max_rows', 120)\n",
    "\n",
    "\n",
    "# df.isnull().sum()"
   ]
  },
  {
   "cell_type": "code",
   "execution_count": 15,
   "metadata": {},
   "outputs": [],
   "source": [
    "# df.select_dtypes(include = ['object']).isnull().sum()"
   ]
  },
  {
   "cell_type": "code",
   "execution_count": 221,
   "metadata": {},
   "outputs": [
    {
     "data": {
      "text/plain": [
       "Truck            75713\n",
       "Passenger Car    54805\n",
       "Motorcycle       11247\n",
       "NaN               3298\n",
       "Name: veh_type, dtype: int64"
      ]
     },
     "execution_count": 221,
     "metadata": {},
     "output_type": "execute_result"
    }
   ],
   "source": [
    "df['veh_type'].value_counts(dropna = False)"
   ]
  },
  {
   "cell_type": "code",
   "execution_count": 222,
   "metadata": {},
   "outputs": [],
   "source": [
    "# fill missing values(NANs) for categorical features\n",
    "# veh_type\n",
    "\n",
    "df['veh_type'].fillna('unknown', inplace = True)"
   ]
  },
  {
   "cell_type": "code",
   "execution_count": 224,
   "metadata": {},
   "outputs": [
    {
     "name": "stdout",
     "output_type": "stream",
     "text": [
      "0\n",
      "Truck            75713\n",
      "Passenger Car    54805\n",
      "Motorcycle       11247\n",
      "unknown           3298\n",
      "Name: veh_type, dtype: int64\n"
     ]
    }
   ],
   "source": [
    "print(df['veh_type'].isnull().sum())\n",
    "print(df['veh_type'].value_counts(dropna = False))"
   ]
  },
  {
   "cell_type": "code",
   "execution_count": 16,
   "metadata": {},
   "outputs": [],
   "source": [
    "#veh_style\n",
    "\n",
    "# df['veh_style'].fillna('unknown', inplace = True)\n",
    "\n",
    "# print(df['veh_style'].isnull().sum())\n",
    "# print(df['veh_style'].value_counts(dropna = False))"
   ]
  },
  {
   "cell_type": "code",
   "execution_count": 226,
   "metadata": {},
   "outputs": [
    {
     "name": "stdout",
     "output_type": "stream",
     "text": [
      "0\n",
      "unknown       133408\n",
      "over 12T        9064\n",
      "up to 12T       2484\n",
      "up to 4.5T       107\n",
      "Name: veh_weight, dtype: int64\n"
     ]
    }
   ],
   "source": [
    "# veh_weight\n",
    "\n",
    "df['veh_weight'].fillna('unknown', inplace = True)\n",
    "\n",
    "print(df['veh_weight'].isnull().sum())\n",
    "print(df['veh_weight'].value_counts())"
   ]
  },
  {
   "cell_type": "code",
   "execution_count": 17,
   "metadata": {},
   "outputs": [],
   "source": [
    "# veh_manu\n",
    "\n",
    "# df['veh_manu'].fillna('unknown', inplace = True)\n",
    "\n",
    "# print(df['veh_manu'].isnull().sum())\n",
    "# print(df['veh_manu'].value_counts(dropna = False))"
   ]
  },
  {
   "cell_type": "code",
   "execution_count": 228,
   "metadata": {},
   "outputs": [
    {
     "name": "stdout",
     "output_type": "stream",
     "text": [
      "0\n",
      "Clean         122547\n",
      "Penalised      10318\n",
      "No licence      8331\n",
      "unknown         1994\n",
      "Expired         1873\n",
      "Name: drv_status, dtype: int64\n"
     ]
    }
   ],
   "source": [
    "# drv_status\n",
    "\n",
    "df['drv_status'].fillna('unknown', inplace = True)\n",
    "\n",
    "print(df['drv_status'].isnull().sum())\n",
    "print(df['drv_status'].value_counts(dropna = False))"
   ]
  },
  {
   "cell_type": "code",
   "execution_count": 18,
   "metadata": {},
   "outputs": [],
   "source": [
    "# df.select_dtypes(include = ['object']).isnull().sum()"
   ]
  },
  {
   "cell_type": "code",
   "execution_count": 230,
   "metadata": {},
   "outputs": [],
   "source": [
    "df.to_pickle('pp_train_isnull_2.pkl')"
   ]
  },
  {
   "cell_type": "code",
   "execution_count": 19,
   "metadata": {},
   "outputs": [],
   "source": [
    "# do feature engineering\n",
    "\n",
    "# df.T"
   ]
  },
  {
   "cell_type": "code",
   "execution_count": 233,
   "metadata": {},
   "outputs": [],
   "source": [
    "#inc_datetime\n",
    "\n",
    "df['inc_datetime_yr'] = df['inc_datetime'].dt.year"
   ]
  },
  {
   "cell_type": "code",
   "execution_count": 234,
   "metadata": {},
   "outputs": [],
   "source": [
    "df.to_pickle('pp_train_isnull_3.pkl')"
   ]
  },
  {
   "cell_type": "code",
   "execution_count": 236,
   "metadata": {},
   "outputs": [],
   "source": [
    "#new feature: veh_age = inc_datetime_yr - veh_+year\n",
    "\n",
    "df['veh_age'] = df['inc_datetime_yr'] - df['veh_year']"
   ]
  },
  {
   "cell_type": "code",
   "execution_count": 245,
   "metadata": {},
   "outputs": [],
   "source": [
    "#new feature_1: drv_ban1 = (inc_datetime_yr-drv_ban1_yr)*12+(inc_datetime_mon-drv_ban1_mo)\n",
    "#new feature_2: dfv_ban2 = (inc_datetime_yr-drv_ban2_yr)*12+(inc_datetime_mon-drv_ban2_mo)\n",
    "\n",
    "df['drv_ban1_num'] = (df['inc_datetime_yr']-df['drv_ban1_yr_num'])*12+(df['inc_datetime_mon']-df['drv_ban1_mo_num'])\n",
    "df['drv_ban2_num'] = (df['inc_datetime_yr']-df['drv_ban2_yr_num'])*12+(df['inc_datetime_mon']-df['drv_ban2_mo_num'])"
   ]
  },
  {
   "cell_type": "code",
   "execution_count": 20,
   "metadata": {},
   "outputs": [],
   "source": [
    "# (df['inc_datetime_yr']-df['drv_ban1_yr_num'])*12+(df['inc_datetime_mon']-df['drv_ban1_mo_num'])"
   ]
  },
  {
   "cell_type": "code",
   "execution_count": 21,
   "metadata": {},
   "outputs": [],
   "source": [
    "# (df['inc_datetime_yr']-df['drv_ban2_yr_num'])*12+(df['inc_datetime_mon']-df['drv_ban2_mo_num'])"
   ]
  },
  {
   "cell_type": "code",
   "execution_count": 22,
   "metadata": {},
   "outputs": [],
   "source": [
    "# df['drv_ban1_yr_num'].value_counts(dropna = False)"
   ]
  },
  {
   "cell_type": "code",
   "execution_count": 246,
   "metadata": {},
   "outputs": [],
   "source": [
    "df.to_pickle('pp_train_isnull_4.pkl')"
   ]
  },
  {
   "cell_type": "code",
   "execution_count": 23,
   "metadata": {},
   "outputs": [],
   "source": [
    "# df = pd.read_pickle('pp_train_isnull_4.pkl')\n",
    "# df.head()"
   ]
  },
  {
   "cell_type": "code",
   "execution_count": 24,
   "metadata": {},
   "outputs": [],
   "source": [
    "# df.T"
   ]
  },
  {
   "cell_type": "code",
   "execution_count": 25,
   "metadata": {},
   "outputs": [],
   "source": [
    "# df.T"
   ]
  },
  {
   "cell_type": "code",
   "execution_count": 26,
   "metadata": {},
   "outputs": [],
   "source": [
    "# df.info()"
   ]
  },
  {
   "cell_type": "code",
   "execution_count": 27,
   "metadata": {},
   "outputs": [],
   "source": [
    "# pd.set_option('display.max_rows', 200)\n",
    "\n",
    "# df.dtypes"
   ]
  },
  {
   "cell_type": "code",
   "execution_count": 9,
   "metadata": {},
   "outputs": [],
   "source": [
    "df.drop(['inc_datetime', 'drv_ban1_mo', 'drv_ban1_yr', 'drv_ban2_mo', 'drv_ban2_yr'], axis = 1, inplace = True)"
   ]
  },
  {
   "cell_type": "code",
   "execution_count": 28,
   "metadata": {},
   "outputs": [],
   "source": [
    "# df.T"
   ]
  },
  {
   "cell_type": "code",
   "execution_count": 11,
   "metadata": {},
   "outputs": [],
   "source": [
    "df.drop(['veh_year'], axis = 1, inplace = True)"
   ]
  },
  {
   "cell_type": "code",
   "execution_count": 29,
   "metadata": {},
   "outputs": [],
   "source": [
    "# df.select_dtypes(include = ['object']).T"
   ]
  },
  {
   "cell_type": "code",
   "execution_count": 30,
   "metadata": {},
   "outputs": [],
   "source": [
    "# encoding = {'Unharmed': 0, 'Possible': 1, 'Minor': 2, 'Major': 3, 'Fatal': 4}\n",
    "\n",
    "# y = df['injury'].map(encoding)\n",
    "# print(y)"
   ]
  },
  {
   "cell_type": "code",
   "execution_count": 14,
   "metadata": {},
   "outputs": [],
   "source": [
    "df.drop(['injury'], axis = 1, inplace = True)"
   ]
  },
  {
   "cell_type": "code",
   "execution_count": 31,
   "metadata": {},
   "outputs": [],
   "source": [
    "# df.T"
   ]
  },
  {
   "cell_type": "code",
   "execution_count": 32,
   "metadata": {},
   "outputs": [],
   "source": [
    "# X = pd.get_dummies(df)\n",
    "# X.head()"
   ]
  },
  {
   "cell_type": "code",
   "execution_count": 33,
   "metadata": {},
   "outputs": [],
   "source": [
    "# X.T"
   ]
  },
  {
   "cell_type": "code",
   "execution_count": 18,
   "metadata": {},
   "outputs": [],
   "source": [
    "from sklearn.model_selection import GroupKFold\n",
    "\n",
    "folds_split = list(GroupKFold(n_splits = 5).split(X,\n",
    "                                                 groups = X.loc[:, 'incident_id']))"
   ]
  },
  {
   "cell_type": "code",
   "execution_count": 19,
   "metadata": {},
   "outputs": [
    {
     "data": {
      "text/plain": [
       "[(array([     0,      1,      5, ..., 145060, 145061, 145062]),\n",
       "  array([     2,      3,      4, ..., 145048, 145049, 145059])),\n",
       " (array([     0,      1,      2, ..., 145060, 145061, 145062]),\n",
       "  array([    16,     17,     46, ..., 145056, 145057, 145058])),\n",
       " (array([     0,      1,      2, ..., 145058, 145059, 145060]),\n",
       "  array([     7,      8,      9, ..., 145055, 145061, 145062])),\n",
       " (array([     2,      3,      4, ..., 145060, 145061, 145062]),\n",
       "  array([     0,      1,      5, ..., 145034, 145035, 145036])),\n",
       " (array([     0,      1,      2, ..., 145059, 145061, 145062]),\n",
       "  array([    30,     32,     33, ..., 145051, 145052, 145060]))]"
      ]
     },
     "execution_count": 19,
     "metadata": {},
     "output_type": "execute_result"
    }
   ],
   "source": [
    "folds_split"
   ]
  },
  {
   "cell_type": "code",
   "execution_count": 20,
   "metadata": {},
   "outputs": [
    {
     "data": {
      "text/plain": [
       "(array([     0,      1,      5, ..., 145060, 145061, 145062]),\n",
       " array([     2,      3,      4, ..., 145048, 145049, 145059]))"
      ]
     },
     "execution_count": 20,
     "metadata": {},
     "output_type": "execute_result"
    }
   ],
   "source": [
    "folds_split[0]"
   ]
  },
  {
   "cell_type": "code",
   "execution_count": 21,
   "metadata": {},
   "outputs": [
    {
     "data": {
      "text/plain": [
       "array([     0,      1,      5, ..., 145060, 145061, 145062])"
      ]
     },
     "execution_count": 21,
     "metadata": {},
     "output_type": "execute_result"
    }
   ],
   "source": [
    "folds_split[0][0]"
   ]
  },
  {
   "cell_type": "code",
   "execution_count": 22,
   "metadata": {},
   "outputs": [],
   "source": [
    "#further drop index columns: row_id, incident_id, vehicle_id, occupant_id\n",
    "\n",
    "X.drop(['row_id', 'incident_id', 'vehicle_id', 'occupant_id'], axis = 1, inplace = True)"
   ]
  },
  {
   "cell_type": "code",
   "execution_count": 23,
   "metadata": {},
   "outputs": [
    {
     "data": {
      "text/plain": [
       "(145063, 357)"
      ]
     },
     "execution_count": 23,
     "metadata": {},
     "output_type": "execute_result"
    }
   ],
   "source": [
    "X.shape"
   ]
  },
  {
   "cell_type": "code",
   "execution_count": 24,
   "metadata": {},
   "outputs": [],
   "source": [
    "import lightgbm as lgb\n",
    "\n",
    "lgb_data = lgb.Dataset(X, label = y)"
   ]
  },
  {
   "cell_type": "code",
   "execution_count": 22,
   "metadata": {},
   "outputs": [],
   "source": [
    "params_1 = {'num_leaves': 54,\n",
    "           'min_data_in_leaf': 79,\n",
    "           'objective': 'multiclass',\n",
    "           'num_class': 5,\n",
    "           'metric': 'multi_logloss',\n",
    "           'max_depth': -1,\n",
    "           'learning_rate': 0.01,\n",
    "           'boosting': 'gbdt',\n",
    "           'feature_fraction': 0.9,\n",
    "         'bagging_fraction': 0.8,\n",
    "         'bagging_freq': 5,\n",
    "         'verbosity': 200,\n",
    "           'reg_alpha': 1.13,\n",
    "           'reg_lambda': 0.36}"
   ]
  },
  {
   "cell_type": "code",
   "execution_count": 278,
   "metadata": {},
   "outputs": [
    {
     "name": "stdout",
     "output_type": "stream",
     "text": [
      "[200]\tcv_agg's multi_logloss: 1.00118 + 0.00535021\n",
      "[400]\tcv_agg's multi_logloss: 0.920033 + 0.00682481\n",
      "[600]\tcv_agg's multi_logloss: 0.8957 + 0.00707179\n",
      "[800]\tcv_agg's multi_logloss: 0.884286 + 0.00712488\n",
      "[1000]\tcv_agg's multi_logloss: 0.877915 + 0.00722648\n",
      "[1200]\tcv_agg's multi_logloss: 0.873992 + 0.00728572\n",
      "[1400]\tcv_agg's multi_logloss: 0.871379 + 0.00743518\n",
      "[1600]\tcv_agg's multi_logloss: 0.869527 + 0.00738668\n",
      "[1800]\tcv_agg's multi_logloss: 0.86838 + 0.0074462\n",
      "[2000]\tcv_agg's multi_logloss: 0.867527 + 0.0073764\n"
     ]
    }
   ],
   "source": [
    "mod_1 = lgb.cv(params = params_1,\n",
    "              num_boost_round = 2000,\n",
    "              verbose_eval = 200,\n",
    "              train_set = lgb_data,\n",
    "              early_stopping_rounds = 100,\n",
    "              folds = folds_split)"
   ]
  },
  {
   "cell_type": "code",
   "execution_count": 23,
   "metadata": {},
   "outputs": [],
   "source": [
    "import xgboost as xgb"
   ]
  },
  {
   "cell_type": "code",
   "execution_count": 24,
   "metadata": {},
   "outputs": [],
   "source": [
    "dtrain = xgb.DMatrix(data = X, label = y)"
   ]
  },
  {
   "cell_type": "code",
   "execution_count": 25,
   "metadata": {},
   "outputs": [],
   "source": [
    "params_2 = {'objective': 'multi:softprob',\n",
    "            'eval_metric': ['mlogloss'],\n",
    "            'num_class': 5,\n",
    "            'colsample_bytree': 0.6,\n",
    "           'gamma': 0.5,\n",
    "           'learning_rate': 0.05,\n",
    "           'max_depth': 7,\n",
    "            'min_child_weight': 5,\n",
    "            'lambda': 0.5,\n",
    "            'alpha': 0.5,\n",
    "           'n_estimators': 500,\n",
    "           'subsample': 0.6}"
   ]
  },
  {
   "cell_type": "code",
   "execution_count": 26,
   "metadata": {},
   "outputs": [
    {
     "name": "stdout",
     "output_type": "stream",
     "text": [
      "[0]\ttrain-mlogloss:1.56385+0.000358841\ttest-mlogloss:1.56442+0.000261794\n",
      "[200]\ttrain-mlogloss:0.79818+0.00154134\ttest-mlogloss:0.883665+0.00725878\n",
      "[299]\ttrain-mlogloss:0.752278+0.00151103\ttest-mlogloss:0.874351+0.00717486\n"
     ]
    }
   ],
   "source": [
    "mod2 = xgb.cv(params = params_2,\n",
    "             dtrain = dtrain,\n",
    "             num_boost_round = 300,\n",
    "             early_stopping_rounds = 100,\n",
    "             verbose_eval = 200,\n",
    "             folds = folds_split)"
   ]
  },
  {
   "cell_type": "code",
   "execution_count": null,
   "metadata": {},
   "outputs": [],
   "source": []
  }
 ],
 "metadata": {
  "kernelspec": {
   "display_name": "Python 3",
   "language": "python",
   "name": "python3"
  },
  "language_info": {
   "codemirror_mode": {
    "name": "ipython",
    "version": 3
   },
   "file_extension": ".py",
   "mimetype": "text/x-python",
   "name": "python",
   "nbconvert_exporter": "python",
   "pygments_lexer": "ipython3",
   "version": "3.6.5"
  }
 },
 "nbformat": 4,
 "nbformat_minor": 2
}
