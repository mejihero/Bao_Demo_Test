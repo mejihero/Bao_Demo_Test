{
 "cells": [
  {
   "cell_type": "code",
   "execution_count": 1,
   "metadata": {},
   "outputs": [],
   "source": [
    "import pandas as pd\n",
    "import numpy as np\n",
    "import xgboost as xgb"
   ]
  },
  {
   "cell_type": "code",
   "execution_count": 1,
   "metadata": {},
   "outputs": [],
   "source": [
    "# df = pd.read_pickle('pp_train_isnull_4.pkl')\n",
    "# df.head()"
   ]
  },
  {
   "cell_type": "code",
   "execution_count": 3,
   "metadata": {},
   "outputs": [],
   "source": [
    "df.drop(['inc_datetime', 'drv_ban1_mo', 'drv_ban1_yr', 'drv_ban2_mo', 'drv_ban2_yr', 'veh_year'], axis = 1, inplace = True)"
   ]
  },
  {
   "cell_type": "code",
   "execution_count": 4,
   "metadata": {},
   "outputs": [
    {
     "name": "stdout",
     "output_type": "stream",
     "text": [
      "0         3\n",
      "1         4\n",
      "2         1\n",
      "3         0\n",
      "4         4\n",
      "5         0\n",
      "6         4\n",
      "7         1\n",
      "8         1\n",
      "9         4\n",
      "10        3\n",
      "11        3\n",
      "12        3\n",
      "13        4\n",
      "14        2\n",
      "15        4\n",
      "16        4\n",
      "17        3\n",
      "18        0\n",
      "19        0\n",
      "20        4\n",
      "21        0\n",
      "22        0\n",
      "23        0\n",
      "24        0\n",
      "25        0\n",
      "26        0\n",
      "27        0\n",
      "28        0\n",
      "29        0\n",
      "         ..\n",
      "145033    0\n",
      "145034    4\n",
      "145035    4\n",
      "145036    4\n",
      "145037    3\n",
      "145038    4\n",
      "145039    0\n",
      "145040    2\n",
      "145041    0\n",
      "145042    2\n",
      "145043    4\n",
      "145044    4\n",
      "145045    3\n",
      "145046    4\n",
      "145047    4\n",
      "145048    4\n",
      "145049    2\n",
      "145050    4\n",
      "145051    2\n",
      "145052    3\n",
      "145053    0\n",
      "145054    0\n",
      "145055    4\n",
      "145056    0\n",
      "145057    0\n",
      "145058    4\n",
      "145059    4\n",
      "145060    0\n",
      "145061    0\n",
      "145062    4\n",
      "Name: injury, Length: 145063, dtype: int64\n"
     ]
    }
   ],
   "source": [
    "encoding = {'Unharmed': 0, 'Possible': 1, 'Minor': 2, 'Major': 3, 'Fatal': 4}\n",
    "\n",
    "y = df['injury'].map(encoding)\n",
    "print(y)"
   ]
  },
  {
   "cell_type": "code",
   "execution_count": 5,
   "metadata": {},
   "outputs": [],
   "source": [
    "df.drop(['injury'], axis = 1, inplace = True)"
   ]
  },
  {
   "cell_type": "code",
   "execution_count": 6,
   "metadata": {},
   "outputs": [
    {
     "data": {
      "text/html": [
       "<div>\n",
       "<style scoped>\n",
       "    .dataframe tbody tr th:only-of-type {\n",
       "        vertical-align: middle;\n",
       "    }\n",
       "\n",
       "    .dataframe tbody tr th {\n",
       "        vertical-align: top;\n",
       "    }\n",
       "\n",
       "    .dataframe thead th {\n",
       "        text-align: right;\n",
       "    }\n",
       "</style>\n",
       "<table border=\"1\" class=\"dataframe\">\n",
       "  <thead>\n",
       "    <tr style=\"text-align: right;\">\n",
       "      <th></th>\n",
       "      <th>row_id</th>\n",
       "      <th>incident_id</th>\n",
       "      <th>vehicle_id</th>\n",
       "      <th>occupant_id</th>\n",
       "      <th>total_veh_in_inc</th>\n",
       "      <th>total_occ_in_inc</th>\n",
       "      <th>total_occ_in_veh</th>\n",
       "      <th>actual_veh_in_inc</th>\n",
       "      <th>actual_per_in_inc</th>\n",
       "      <th>actual_occ_in_veh</th>\n",
       "      <th>...</th>\n",
       "      <th>veh_descrip_Instability</th>\n",
       "      <th>veh_descrip_Non-collision</th>\n",
       "      <th>veh_descrip_Non-roadway</th>\n",
       "      <th>veh_descrip_Pothole</th>\n",
       "      <th>veh_descrip_unknown</th>\n",
       "      <th>veh_damage_Disabling</th>\n",
       "      <th>veh_damage_Minor</th>\n",
       "      <th>veh_damage_Moderate</th>\n",
       "      <th>veh_damage_No damage</th>\n",
       "      <th>veh_damage_unknown</th>\n",
       "    </tr>\n",
       "  </thead>\n",
       "  <tbody>\n",
       "    <tr>\n",
       "      <th>0</th>\n",
       "      <td>2</td>\n",
       "      <td>2</td>\n",
       "      <td>1</td>\n",
       "      <td>1</td>\n",
       "      <td>1</td>\n",
       "      <td>2</td>\n",
       "      <td>2</td>\n",
       "      <td>1</td>\n",
       "      <td>2</td>\n",
       "      <td>2</td>\n",
       "      <td>...</td>\n",
       "      <td>1</td>\n",
       "      <td>0</td>\n",
       "      <td>0</td>\n",
       "      <td>0</td>\n",
       "      <td>0</td>\n",
       "      <td>1</td>\n",
       "      <td>0</td>\n",
       "      <td>0</td>\n",
       "      <td>0</td>\n",
       "      <td>0</td>\n",
       "    </tr>\n",
       "    <tr>\n",
       "      <th>1</th>\n",
       "      <td>3</td>\n",
       "      <td>2</td>\n",
       "      <td>1</td>\n",
       "      <td>2</td>\n",
       "      <td>1</td>\n",
       "      <td>2</td>\n",
       "      <td>2</td>\n",
       "      <td>1</td>\n",
       "      <td>2</td>\n",
       "      <td>2</td>\n",
       "      <td>...</td>\n",
       "      <td>1</td>\n",
       "      <td>0</td>\n",
       "      <td>0</td>\n",
       "      <td>0</td>\n",
       "      <td>0</td>\n",
       "      <td>1</td>\n",
       "      <td>0</td>\n",
       "      <td>0</td>\n",
       "      <td>0</td>\n",
       "      <td>0</td>\n",
       "    </tr>\n",
       "    <tr>\n",
       "      <th>2</th>\n",
       "      <td>10</td>\n",
       "      <td>4</td>\n",
       "      <td>1</td>\n",
       "      <td>1</td>\n",
       "      <td>2</td>\n",
       "      <td>3</td>\n",
       "      <td>2</td>\n",
       "      <td>2</td>\n",
       "      <td>3</td>\n",
       "      <td>2</td>\n",
       "      <td>...</td>\n",
       "      <td>0</td>\n",
       "      <td>0</td>\n",
       "      <td>0</td>\n",
       "      <td>0</td>\n",
       "      <td>0</td>\n",
       "      <td>1</td>\n",
       "      <td>0</td>\n",
       "      <td>0</td>\n",
       "      <td>0</td>\n",
       "      <td>0</td>\n",
       "    </tr>\n",
       "    <tr>\n",
       "      <th>3</th>\n",
       "      <td>11</td>\n",
       "      <td>4</td>\n",
       "      <td>1</td>\n",
       "      <td>2</td>\n",
       "      <td>2</td>\n",
       "      <td>3</td>\n",
       "      <td>2</td>\n",
       "      <td>2</td>\n",
       "      <td>3</td>\n",
       "      <td>2</td>\n",
       "      <td>...</td>\n",
       "      <td>0</td>\n",
       "      <td>0</td>\n",
       "      <td>0</td>\n",
       "      <td>0</td>\n",
       "      <td>0</td>\n",
       "      <td>1</td>\n",
       "      <td>0</td>\n",
       "      <td>0</td>\n",
       "      <td>0</td>\n",
       "      <td>0</td>\n",
       "    </tr>\n",
       "    <tr>\n",
       "      <th>4</th>\n",
       "      <td>12</td>\n",
       "      <td>4</td>\n",
       "      <td>2</td>\n",
       "      <td>1</td>\n",
       "      <td>2</td>\n",
       "      <td>3</td>\n",
       "      <td>1</td>\n",
       "      <td>2</td>\n",
       "      <td>3</td>\n",
       "      <td>1</td>\n",
       "      <td>...</td>\n",
       "      <td>0</td>\n",
       "      <td>0</td>\n",
       "      <td>0</td>\n",
       "      <td>0</td>\n",
       "      <td>0</td>\n",
       "      <td>1</td>\n",
       "      <td>0</td>\n",
       "      <td>0</td>\n",
       "      <td>0</td>\n",
       "      <td>0</td>\n",
       "    </tr>\n",
       "  </tbody>\n",
       "</table>\n",
       "<p>5 rows × 361 columns</p>\n",
       "</div>"
      ],
      "text/plain": [
       "   row_id  incident_id  vehicle_id  occupant_id  total_veh_in_inc  \\\n",
       "0       2            2           1            1                 1   \n",
       "1       3            2           1            2                 1   \n",
       "2      10            4           1            1                 2   \n",
       "3      11            4           1            2                 2   \n",
       "4      12            4           2            1                 2   \n",
       "\n",
       "   total_occ_in_inc  total_occ_in_veh  actual_veh_in_inc  actual_per_in_inc  \\\n",
       "0                 2                 2                  1                  2   \n",
       "1                 2                 2                  1                  2   \n",
       "2                 3                 2                  2                  3   \n",
       "3                 3                 2                  2                  3   \n",
       "4                 3                 1                  2                  3   \n",
       "\n",
       "   actual_occ_in_veh         ...          veh_descrip_Instability  \\\n",
       "0                  2         ...                                1   \n",
       "1                  2         ...                                1   \n",
       "2                  2         ...                                0   \n",
       "3                  2         ...                                0   \n",
       "4                  1         ...                                0   \n",
       "\n",
       "   veh_descrip_Non-collision  veh_descrip_Non-roadway  veh_descrip_Pothole  \\\n",
       "0                          0                        0                    0   \n",
       "1                          0                        0                    0   \n",
       "2                          0                        0                    0   \n",
       "3                          0                        0                    0   \n",
       "4                          0                        0                    0   \n",
       "\n",
       "   veh_descrip_unknown  veh_damage_Disabling  veh_damage_Minor  \\\n",
       "0                    0                     1                 0   \n",
       "1                    0                     1                 0   \n",
       "2                    0                     1                 0   \n",
       "3                    0                     1                 0   \n",
       "4                    0                     1                 0   \n",
       "\n",
       "   veh_damage_Moderate  veh_damage_No damage  veh_damage_unknown  \n",
       "0                    0                     0                   0  \n",
       "1                    0                     0                   0  \n",
       "2                    0                     0                   0  \n",
       "3                    0                     0                   0  \n",
       "4                    0                     0                   0  \n",
       "\n",
       "[5 rows x 361 columns]"
      ]
     },
     "execution_count": 6,
     "metadata": {},
     "output_type": "execute_result"
    }
   ],
   "source": [
    "X = pd.get_dummies(df)\n",
    "X.head()"
   ]
  },
  {
   "cell_type": "code",
   "execution_count": 8,
   "metadata": {},
   "outputs": [],
   "source": [
    "from sklearn.model_selection import GroupKFold\n",
    "\n",
    "folds_5 = list(GroupKFold(n_splits = 5).split(X,\n",
    "                                                 groups = X.loc[:, 'incident_id']))\n",
    "\n",
    "folds_2 = list(GroupKFold(n_splits = 2).split(X,\n",
    "                                             groups = X.loc[:, 'incident_id']))"
   ]
  },
  {
   "cell_type": "code",
   "execution_count": 9,
   "metadata": {},
   "outputs": [],
   "source": [
    "X.drop(['row_id', 'incident_id', 'vehicle_id', 'occupant_id'], axis = 1, inplace = True)"
   ]
  },
  {
   "cell_type": "code",
   "execution_count": 10,
   "metadata": {},
   "outputs": [],
   "source": [
    "import xgboost as xgb\n",
    "\n",
    "xgb_all = xgb.DMatrix(X, label = y)"
   ]
  },
  {
   "cell_type": "code",
   "execution_count": 11,
   "metadata": {},
   "outputs": [
    {
     "name": "stdout",
     "output_type": "stream",
     "text": [
      "(145063, 357)\n",
      "145063\n"
     ]
    }
   ],
   "source": [
    "print(X.shape)\n",
    "print(len(y))"
   ]
  },
  {
   "cell_type": "code",
   "execution_count": 15,
   "metadata": {},
   "outputs": [
    {
     "data": {
      "text/plain": [
       "{0, 1, 2, 3, 4}"
      ]
     },
     "execution_count": 15,
     "metadata": {},
     "output_type": "execute_result"
    }
   ],
   "source": [
    "set(y)"
   ]
  },
  {
   "cell_type": "code",
   "execution_count": 16,
   "metadata": {},
   "outputs": [],
   "source": [
    "params_ = {'booster': 'gbtree',\n",
    "           'objective': 'multi:softprob',\n",
    "          'verbosity': 1,\n",
    "           'nthread': 4,\n",
    "           'learning_rate': 0.01,\n",
    "           'gamma': 0,\n",
    "           'max_depth': 7,\n",
    "           'min_child_weight': 1,\n",
    "           'max_delta_step': 0,\n",
    "           'subsample': 0.9,\n",
    "           'colsample_bytree': 0.8,\n",
    "           #'colsample_bylevel': ,\n",
    "           #'colsample_bynode': ,\n",
    "           'reg_alpha': 0.1,\n",
    "           'reg_lambda': 1.5,\n",
    "           'eval_metric': 'mlogloss',\n",
    "           'num_class': 5,\n",
    "           #'tree_method': ,\n",
    "           #'sketch_eps':,\n",
    "           #'scale_pos_weight':,\n",
    "           #'update': ,\n",
    "           #'refresh_leaf':,\n",
    "           #'process_type':,\n",
    "           #'grow_policy':,\n",
    "           #'max_leaves': 0,\n",
    "           #'max_bin': 256,\n",
    "           #'predictor':,\n",
    "           #'num_parallel_tree':,\n",
    "          }"
   ]
  },
  {
   "cell_type": "code",
   "execution_count": 17,
   "metadata": {},
   "outputs": [
    {
     "name": "stdout",
     "output_type": "stream",
     "text": [
      "[0]\ttrain-mlogloss:1.59986+4.20305e-05\ttest-mlogloss:1.6+9.22098e-05\n",
      "[50]\ttrain-mlogloss:1.2888+0.000658711\ttest-mlogloss:1.29553+0.00231829\n",
      "[100]\ttrain-mlogloss:1.1346+0.000993861\ttest-mlogloss:1.14656+0.0033957\n",
      "[150]\ttrain-mlogloss:1.04611+0.00121761\ttest-mlogloss:1.06272+0.00415924\n",
      "[200]\ttrain-mlogloss:0.991026+0.00134848\ttest-mlogloss:1.01197+0.00475\n",
      "[250]\ttrain-mlogloss:0.953875+0.00133591\ttest-mlogloss:0.979245+0.00530863\n",
      "[300]\ttrain-mlogloss:0.92731+0.00138381\ttest-mlogloss:0.957259+0.00567191\n",
      "[350]\ttrain-mlogloss:0.907187+0.00123437\ttest-mlogloss:0.941718+0.00596911\n",
      "[400]\ttrain-mlogloss:0.890946+0.00123375\ttest-mlogloss:0.93019+0.00617653\n",
      "[450]\ttrain-mlogloss:0.877379+0.00134194\ttest-mlogloss:0.921458+0.00617922\n",
      "[500]\ttrain-mlogloss:0.86549+0.00134909\ttest-mlogloss:0.914617+0.00623479\n",
      "[550]\ttrain-mlogloss:0.85457+0.00139531\ttest-mlogloss:0.908952+0.00619018\n",
      "[600]\ttrain-mlogloss:0.844139+0.00136933\ttest-mlogloss:0.90409+0.00623223\n",
      "[650]\ttrain-mlogloss:0.834572+0.0013509\ttest-mlogloss:0.899996+0.00632383\n",
      "[700]\ttrain-mlogloss:0.825588+0.00124744\ttest-mlogloss:0.896421+0.006382\n",
      "[750]\ttrain-mlogloss:0.817304+0.00120885\ttest-mlogloss:0.893373+0.00638469\n",
      "[800]\ttrain-mlogloss:0.809334+0.00122647\ttest-mlogloss:0.890606+0.00643217\n",
      "[850]\ttrain-mlogloss:0.802069+0.00121813\ttest-mlogloss:0.888237+0.00642334\n",
      "[900]\ttrain-mlogloss:0.795081+0.00119552\ttest-mlogloss:0.88615+0.00642051\n",
      "[950]\ttrain-mlogloss:0.788303+0.00122827\ttest-mlogloss:0.884247+0.00640894\n",
      "[999]\ttrain-mlogloss:0.78206+0.00125355\ttest-mlogloss:0.882586+0.00642867\n"
     ]
    }
   ],
   "source": [
    "mod_1 = xgb.cv(params_,\n",
    "                 xgb_all,\n",
    "                 num_boost_round = 1000,\n",
    "                 #nfolds = 3,\n",
    "               #stratified = False,\n",
    "               folds = folds_5,\n",
    "               metrics = 'mlogloss',\n",
    "               #obj = None,\n",
    "               #feval = None,\n",
    "               #maximize = False,\n",
    "               early_stopping_rounds = 100,\n",
    "               #fpreproc = None,\n",
    "               #as_pandas = True,\n",
    "               verbose_eval = 50,\n",
    "               #show_stdv = True,\n",
    "               seed = 0,\n",
    "               #callbacks = None,\n",
    "               #shuffle = True\n",
    "              )"
   ]
  },
  {
   "cell_type": "code",
   "execution_count": 26,
   "metadata": {},
   "outputs": [],
   "source": [
    "X_train = X.loc[folds_2[0][0]]\n",
    "y_train = y[folds_2[0][0]]\n",
    "X_test = X.loc[folds_2[0][1]]\n",
    "y_test = y[folds_2[0][1]]\n",
    "\n",
    "\n",
    "xgb_train = xgb.DMatrix(X_train, label = y_train)\n",
    "xgb_test = xgb.DMatrix(X_test, label = y_test)"
   ]
  },
  {
   "cell_type": "code",
   "execution_count": 27,
   "metadata": {},
   "outputs": [
    {
     "name": "stdout",
     "output_type": "stream",
     "text": [
      "(72531, 357)\n",
      "72531\n",
      "(72532, 357)\n",
      "72532\n"
     ]
    }
   ],
   "source": [
    "print(X_train.shape)\n",
    "print(len(y_train))\n",
    "\n",
    "print(X_test.shape)\n",
    "print(len(y_test))"
   ]
  },
  {
   "cell_type": "code",
   "execution_count": 28,
   "metadata": {},
   "outputs": [
    {
     "name": "stdout",
     "output_type": "stream",
     "text": [
      "[0]\ttrain-mlogloss:1.59975\ttest-mlogloss:1.6\n",
      "Multiple eval metrics have been passed: 'test-mlogloss' will be used for early stopping.\n",
      "\n",
      "Will train until test-mlogloss hasn't improved in 50 rounds.\n",
      "[100]\ttrain-mlogloss:1.13102\ttest-mlogloss:1.14894\n",
      "[200]\ttrain-mlogloss:0.984171\ttest-mlogloss:1.01477\n",
      "[300]\ttrain-mlogloss:0.917157\ttest-mlogloss:0.960433\n",
      "[400]\ttrain-mlogloss:0.877701\ttest-mlogloss:0.934094\n",
      "[499]\ttrain-mlogloss:0.848802\ttest-mlogloss:0.918903\n"
     ]
    }
   ],
   "source": [
    "mod_2 = xgb.train(params_,\n",
    "                 xgb_train,\n",
    "                 num_boost_round = 500,\n",
    "                 evals = [(xgb_train, 'train'), (xgb_test, 'test')],\n",
    "                 early_stopping_rounds = 50,\n",
    "                 verbose_eval = 100)"
   ]
  },
  {
   "cell_type": "code",
   "execution_count": 30,
   "metadata": {},
   "outputs": [],
   "source": [
    "from xgboost import XGBClassifier\n",
    "\n",
    "mod_3 = XGBClassifier(max_depth = 6,\n",
    "                     learning_rate = 0.01,\n",
    "                     n_estimators = 1000,\n",
    "                     silent = True,\n",
    "                     objective = 'multi:softprob',\n",
    "                      num_class = 5,\n",
    "                     booster = 'gbtree',\n",
    "                     n_jobs = 4,\n",
    "                     gamma = 0.5,\n",
    "                     min_child_weight = 1,\n",
    "                     max_delta_step = 0,\n",
    "                     subsample = 0.9,\n",
    "                     colsample_bytree = 0.8,\n",
    "                     colsample_bylevel = 1,\n",
    "                     reg_alpha = 0.5,\n",
    "                     reg_lambda = 1.5,\n",
    "                     scale_pos_weight = 1,\n",
    "                     random_state = 42)"
   ]
  },
  {
   "cell_type": "code",
   "execution_count": 32,
   "metadata": {},
   "outputs": [
    {
     "name": "stdout",
     "output_type": "stream",
     "text": [
      "[0]\tvalidation_0-mlogloss:1.60018\tvalidation_1-mlogloss:1.60036\n",
      "Multiple eval metrics have been passed: 'validation_1-mlogloss' will be used for early stopping.\n",
      "\n",
      "Will train until validation_1-mlogloss hasn't improved in 50 rounds.\n",
      "[100]\tvalidation_0-mlogloss:1.14734\tvalidation_1-mlogloss:1.15914\n",
      "[200]\tvalidation_0-mlogloss:1.00785\tvalidation_1-mlogloss:1.02737\n",
      "[300]\tvalidation_0-mlogloss:0.946234\tvalidation_1-mlogloss:0.973169\n",
      "[400]\tvalidation_0-mlogloss:0.911806\tvalidation_1-mlogloss:0.946627\n",
      "[500]\tvalidation_0-mlogloss:0.886664\tvalidation_1-mlogloss:0.930189\n",
      "[600]\tvalidation_0-mlogloss:0.865631\tvalidation_1-mlogloss:0.918364\n",
      "[700]\tvalidation_0-mlogloss:0.848046\tvalidation_1-mlogloss:0.909877\n",
      "[800]\tvalidation_0-mlogloss:0.832871\tvalidation_1-mlogloss:0.903506\n",
      "[900]\tvalidation_0-mlogloss:0.819426\tvalidation_1-mlogloss:0.898581\n",
      "[999]\tvalidation_0-mlogloss:0.807405\tvalidation_1-mlogloss:0.894807\n"
     ]
    },
    {
     "data": {
      "text/plain": [
       "XGBClassifier(base_score=0.5, booster='gbtree', colsample_bylevel=1,\n",
       "       colsample_bytree=0.8, gamma=0.5, learning_rate=0.01,\n",
       "       max_delta_step=0, max_depth=6, min_child_weight=1, missing=None,\n",
       "       n_estimators=1000, n_jobs=4, nthread=None, num_class=5,\n",
       "       objective='multi:softprob', random_state=42, reg_alpha=0.5,\n",
       "       reg_lambda=1.5, scale_pos_weight=1, seed=None, silent=True,\n",
       "       subsample=0.9)"
      ]
     },
     "execution_count": 32,
     "metadata": {},
     "output_type": "execute_result"
    }
   ],
   "source": [
    "mod_3.fit(X_train, y_train,\n",
    "         eval_set = [(X_train, y_train), (X_test, y_test)],\n",
    "         eval_metric = 'mlogloss',\n",
    "          early_stopping_rounds = 50,\n",
    "          verbose = 100\n",
    "         )"
   ]
  },
  {
   "cell_type": "code",
   "execution_count": 33,
   "metadata": {},
   "outputs": [
    {
     "data": {
      "text/plain": [
       "array([1.08641749e-02, 2.35494636e-02, 1.77652389e-02, 8.80969130e-03,\n",
       "       1.60858128e-02, 1.16559640e-02, 1.73443407e-02, 4.20564823e-02,\n",
       "       8.00540112e-03, 3.12214792e-02, 5.61211519e-02, 5.88007318e-03,\n",
       "       6.66769454e-03, 2.96504050e-02, 6.84688892e-03, 1.83903351e-02,\n",
       "       2.45079454e-02, 5.58836153e-03, 6.55517727e-03, 8.58465675e-04,\n",
       "       3.08380881e-03, 2.07115263e-02, 4.16730909e-05, 1.81277953e-02,\n",
       "       2.45496184e-02, 8.75134938e-05, 1.71276403e-03, 4.37567447e-04,\n",
       "       1.23352348e-03, 2.91711651e-04, 5.54252125e-04, 2.78376252e-03,\n",
       "       3.63806076e-03, 6.30513858e-03, 1.15851196e-03, 6.66769483e-05,\n",
       "       4.06312663e-03, 8.25127179e-04, 1.92529685e-03, 2.02947948e-03,\n",
       "       9.08473390e-04, 1.29186577e-04, 3.00046260e-04, 1.26144448e-02,\n",
       "       4.16730927e-06, 6.20929059e-03, 0.00000000e+00, 1.09016802e-02,\n",
       "       0.00000000e+00, 5.76755591e-03, 6.83438685e-03, 9.37644567e-04,\n",
       "       5.20080188e-03, 1.68359291e-03, 1.20435236e-03, 9.08473390e-04,\n",
       "       0.00000000e+00, 4.45902086e-04, 4.80907457e-03, 9.58481105e-05,\n",
       "       2.50038545e-04, 1.45855825e-04, 1.25019273e-04, 4.16730927e-06,\n",
       "       1.07099849e-03, 1.95863526e-04, 5.00077113e-05, 6.33430958e-04,\n",
       "       6.54267555e-04, 6.16761739e-04, 4.16730927e-06, 0.00000000e+00,\n",
       "       0.00000000e+00, 1.04599458e-03, 6.42599072e-03, 3.07547413e-02,\n",
       "       1.69901196e-02, 1.60566419e-02, 2.29618722e-03, 1.72109867e-03,\n",
       "       2.90044723e-03, 2.99212802e-03, 1.70026207e-03, 2.10449100e-03,\n",
       "       1.64191984e-03, 2.30868929e-03, 2.36286432e-03, 1.25019273e-04,\n",
       "       9.41811886e-04, 3.25050112e-03, 7.87621422e-04, 4.16730927e-06,\n",
       "       3.02129914e-03, 2.04198156e-03, 2.00030845e-04, 7.50115651e-05,\n",
       "       2.50038556e-05, 1.59191212e-03, 2.33369312e-04, 7.83454103e-04,\n",
       "       3.50053975e-04, 1.73360063e-03, 7.66784884e-04, 1.16684656e-04,\n",
       "       2.75042403e-04, 4.54236695e-04, 8.75134938e-05, 0.00000000e+00,\n",
       "       1.69609487e-03, 5.41750196e-05, 3.95894371e-04, 8.58465675e-04,\n",
       "       1.01682346e-03, 2.31702393e-03, 1.82111410e-03, 3.33384742e-05,\n",
       "       1.37521198e-03, 2.87544332e-04, 2.58373155e-04, 2.48371623e-03,\n",
       "       1.88362377e-03, 2.90878187e-03, 1.18768308e-03, 1.25019278e-05,\n",
       "       4.58403993e-05, 6.50516944e-03, 1.01682346e-03, 6.86772540e-03,\n",
       "       9.58481105e-05, 1.95446797e-03, 3.11714713e-03, 2.70875084e-04,\n",
       "       0.00000000e+00, 2.02114484e-03, 2.50038556e-05, 1.74193527e-03,\n",
       "       1.27519656e-03, 7.20944488e-04, 5.83423280e-05, 8.33461854e-06,\n",
       "       5.00077113e-05, 8.04290641e-04, 8.33461818e-04, 7.08442531e-05,\n",
       "       1.83361606e-03, 7.50115651e-05, 2.50038556e-05, 4.87575162e-04,\n",
       "       2.20867383e-04, 4.75906720e-03, 3.12548189e-04, 1.05057862e-02,\n",
       "       4.20898228e-04, 1.13434158e-02, 4.16730927e-06, 5.37582906e-04,\n",
       "       5.12162270e-03, 9.68899392e-03, 5.19663468e-03, 7.00107950e-04,\n",
       "       4.88408608e-03, 1.62108324e-03, 1.18351576e-03, 1.73776795e-03,\n",
       "       2.39203544e-03, 2.11699307e-03, 2.70875084e-04, 2.04198150e-04,\n",
       "       2.58373155e-04, 7.16777192e-03, 2.01281020e-03, 3.83809162e-03,\n",
       "       0.00000000e+00, 1.83361597e-04, 6.25096378e-04, 4.62571305e-04,\n",
       "       1.03349262e-03, 8.25127179e-04, 1.45855825e-04, 9.41811886e-04,\n",
       "       4.91742452e-04, 2.66707793e-04, 4.33400157e-04, 1.25019278e-05,\n",
       "       0.00000000e+00, 3.33384742e-05, 3.33384742e-05, 8.33461854e-06,\n",
       "       1.47106010e-03, 1.04182727e-04, 1.41688506e-04, 0.00000000e+00,\n",
       "       1.84611790e-03, 1.53773709e-03, 7.33446388e-04, 4.16730927e-06,\n",
       "       1.13350805e-03, 1.33353897e-04, 4.45902086e-04, 4.87575162e-04,\n",
       "       7.08442531e-05, 1.99197372e-03, 2.54205865e-04, 1.91696221e-04,\n",
       "       3.87559761e-04, 0.00000000e+00, 0.00000000e+00, 2.61707022e-03,\n",
       "       8.12625280e-04, 4.45902086e-04, 1.66692371e-05, 4.08396299e-04,\n",
       "       3.50053975e-04, 1.67942559e-03, 1.87528916e-04, 1.60024676e-03,\n",
       "       2.34619505e-03, 2.40037008e-03, 1.00015418e-03, 1.30853511e-03,\n",
       "       3.62555904e-04, 7.91788698e-05, 2.95878941e-04, 4.58403993e-05,\n",
       "       3.37552046e-04, 0.00000000e+00, 0.00000000e+00, 4.37567447e-04,\n",
       "       5.70921344e-04, 7.41781027e-04, 1.62525059e-04, 6.25096363e-05,\n",
       "       1.62525059e-04, 1.79194292e-04, 0.00000000e+00, 1.52106781e-03,\n",
       "       5.58419444e-04, 3.75057833e-04, 1.08350039e-04, 3.49220494e-03,\n",
       "       6.29263697e-04, 1.42521970e-03, 1.84611790e-03, 2.73792213e-03,\n",
       "       3.12548189e-04, 3.65056284e-03, 0.00000000e+00, 4.33400157e-04,\n",
       "       1.30853511e-03, 0.00000000e+00, 3.12548177e-03, 3.33384727e-04,\n",
       "       2.22117570e-03, 1.16267928e-03, 1.25019278e-05, 2.00030845e-04,\n",
       "       1.25852739e-03, 9.87652224e-04, 9.25142609e-04, 5.83423280e-05,\n",
       "       1.52106781e-03, 3.37552046e-04, 1.70859668e-04, 1.04599458e-03,\n",
       "       1.66692371e-05, 3.81725514e-03, 7.79286784e-04, 4.30899765e-03,\n",
       "       1.09975291e-02, 9.16807985e-05, 1.30020047e-03, 2.50038545e-04,\n",
       "       1.95863526e-04, 2.51288735e-03, 5.08411729e-04, 7.37613707e-04,\n",
       "       2.90044723e-03, 2.84210476e-03, 3.62555904e-04, 3.87143018e-03,\n",
       "       1.00015423e-04, 2.06281804e-03, 3.97144537e-03, 2.58373155e-04,\n",
       "       4.28816117e-03, 1.95030065e-03, 1.43355434e-03, 5.08411694e-03,\n",
       "       3.38802231e-03, 1.83361597e-04, 5.83423280e-05, 2.04614876e-03,\n",
       "       1.09600229e-03, 3.91727051e-04, 3.48387053e-03, 3.66723194e-04,\n",
       "       2.50038556e-05, 1.71276403e-03, 9.50146466e-04, 4.95909771e-04,\n",
       "       4.12563590e-04, 1.26269471e-03, 2.01281020e-03, 2.32535857e-03,\n",
       "       2.08365454e-04, 3.68806859e-03, 3.68390116e-03, 8.33461818e-05,\n",
       "       8.29294499e-04, 5.32582123e-03, 9.62648424e-04, 1.75026988e-04,\n",
       "       4.75073233e-04, 9.66815744e-04, 6.62602135e-04, 3.45886656e-04,\n",
       "       8.33461818e-04, 9.50146466e-04, 4.79240553e-04, 9.58481105e-04,\n",
       "       9.02639143e-03, 1.30020047e-03, 4.58403993e-05, 4.83407872e-04,\n",
       "       3.77558218e-03, 5.20496909e-03, 4.52569779e-03, 1.95863526e-04,\n",
       "       2.46287975e-03, 5.68837719e-03, 1.76693907e-03, 4.75073233e-04,\n",
       "       7.62617565e-04, 5.91757882e-04, 7.08442531e-05, 1.95030065e-03,\n",
       "       1.25019273e-04, 1.36271003e-03, 0.00000000e+00, 0.00000000e+00,\n",
       "       7.87621457e-03, 8.51797964e-03, 2.35036225e-03, 1.30436779e-03,\n",
       "       4.83407872e-04, 2.34619505e-03, 2.24201242e-03, 7.43864663e-03,\n",
       "       4.16730927e-06, 9.04306071e-04, 0.00000000e+00, 2.50038556e-05,\n",
       "       1.30811837e-02, 5.25914412e-03, 3.48803774e-03, 3.74224363e-03,\n",
       "       9.20975290e-04], dtype=float32)"
      ]
     },
     "execution_count": 33,
     "metadata": {},
     "output_type": "execute_result"
    }
   ],
   "source": [
    "mod_3.feature_importances_"
   ]
  },
  {
   "cell_type": "code",
   "execution_count": 34,
   "metadata": {},
   "outputs": [
    {
     "data": {
      "text/plain": [
       "0.5"
      ]
     },
     "execution_count": 34,
     "metadata": {},
     "output_type": "execute_result"
    }
   ],
   "source": [
    "mod_3.base_score"
   ]
  },
  {
   "cell_type": "code",
   "execution_count": 35,
   "metadata": {},
   "outputs": [
    {
     "data": {
      "text/plain": [
       "array([4, 4, 0, ..., 4, 4, 4], dtype=int64)"
      ]
     },
     "execution_count": 35,
     "metadata": {},
     "output_type": "execute_result"
    }
   ],
   "source": [
    "mod_3.predict(X_test)"
   ]
  },
  {
   "cell_type": "code",
   "execution_count": 36,
   "metadata": {},
   "outputs": [
    {
     "data": {
      "text/plain": [
       "array([[3.1134481e-02, 4.9687143e-02, 1.3629039e-01, 1.7082243e-01,\n",
       "        6.1206555e-01],\n",
       "       [4.6256285e-02, 5.4511163e-02, 1.7191957e-01, 1.8909219e-01,\n",
       "        5.3822076e-01],\n",
       "       [7.3262805e-01, 6.7347236e-02, 7.9857036e-02, 3.1181144e-02,\n",
       "        8.8986509e-02],\n",
       "       ...,\n",
       "       [1.3265428e-02, 1.9972678e-02, 3.1270500e-02, 4.4974200e-02,\n",
       "        8.9051723e-01],\n",
       "       [1.6851225e-03, 1.0412715e-03, 1.0610415e-03, 7.6207501e-04,\n",
       "        9.9545056e-01],\n",
       "       [6.0557318e-04, 6.9284911e-04, 8.2086714e-04, 7.0347270e-04,\n",
       "        9.9717724e-01]], dtype=float32)"
      ]
     },
     "execution_count": 36,
     "metadata": {},
     "output_type": "execute_result"
    }
   ],
   "source": [
    "mod_3.predict_proba(X_test)"
   ]
  },
  {
   "cell_type": "code",
   "execution_count": 39,
   "metadata": {},
   "outputs": [
    {
     "data": {
      "text/plain": [
       "<matplotlib.axes._subplots.AxesSubplot at 0x1b22c518>"
      ]
     },
     "execution_count": 39,
     "metadata": {},
     "output_type": "execute_result"
    },
    {
     "data": {
      "image/png": "[encoded data removed]",
      "text/plain": [
       "<Figure size 432x288 with 1 Axes>"
      ]
     },
     "metadata": {},
     "output_type": "display_data"
    }
   ],
   "source": [
    "import matplotlib.pyplot as plt\n",
    "%matplotlib inline\n",
    "\n",
    "xgb.plot_importance(mod_3)"
   ]
  },
  {
   "cell_type": "code",
   "execution_count": null,
   "metadata": {},
   "outputs": [],
   "source": []
  }
 ],
 "metadata": {
  "kernelspec": {
   "display_name": "Python 3",
   "language": "python",
   "name": "python3"
  },
  "language_info": {
   "codemirror_mode": {
    "name": "ipython",
    "version": 3
   },
   "file_extension": ".py",
   "mimetype": "text/x-python",
   "name": "python",
   "nbconvert_exporter": "python",
   "pygments_lexer": "ipython3",
   "version": "3.6.5"
  }
 },
 "nbformat": 4,
 "nbformat_minor": 2
}
